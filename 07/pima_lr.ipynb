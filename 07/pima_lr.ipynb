{
 "cells": [
  {
   "cell_type": "markdown",
   "metadata": {
    "collapsed": true
   },
   "source": [
    "# pima 糖尿病预测作业；\n",
    "采用5折交叉验证，分别用log似然损失和正确率，对Logistic回归模型的正则超参数调优。"
   ]
  },
  {
   "cell_type": "code",
   "execution_count": 2,
   "metadata": {
    "collapsed": true
   },
   "outputs": [],
   "source": [
    "import numpy as np\n",
    "import pandas as pd\n",
    "\n",
    "import matplotlib.pyplot as plt\n",
    "import seaborn as sns\n",
    "\n",
    "%matplotlib inline"
   ]
  },
  {
   "cell_type": "markdown",
   "metadata": {},
   "source": [
    "## 1. 读取数据"
   ]
  },
  {
   "cell_type": "code",
   "execution_count": 3,
   "metadata": {},
   "outputs": [
    {
     "data": {
      "text/html": [
       "<div>\n",
       "<style>\n",
       "    .dataframe thead tr:only-child th {\n",
       "        text-align: right;\n",
       "    }\n",
       "\n",
       "    .dataframe thead th {\n",
       "        text-align: left;\n",
       "    }\n",
       "\n",
       "    .dataframe tbody tr th {\n",
       "        vertical-align: top;\n",
       "    }\n",
       "</style>\n",
       "<table border=\"1\" class=\"dataframe\">\n",
       "  <thead>\n",
       "    <tr style=\"text-align: right;\">\n",
       "      <th></th>\n",
       "      <th>pregnants</th>\n",
       "      <th>Plasma_glucose_concentration</th>\n",
       "      <th>blood_pressure</th>\n",
       "      <th>Triceps_skin_fold_thickness</th>\n",
       "      <th>serum_insulin</th>\n",
       "      <th>BMI</th>\n",
       "      <th>Diabetes_pedigree_function</th>\n",
       "      <th>Age</th>\n",
       "      <th>Target</th>\n",
       "    </tr>\n",
       "  </thead>\n",
       "  <tbody>\n",
       "    <tr>\n",
       "      <th>0</th>\n",
       "      <td>0.639947</td>\n",
       "      <td>0.866045</td>\n",
       "      <td>-0.031990</td>\n",
       "      <td>0.670643</td>\n",
       "      <td>-0.181541</td>\n",
       "      <td>0.166619</td>\n",
       "      <td>0.468492</td>\n",
       "      <td>1.425995</td>\n",
       "      <td>1</td>\n",
       "    </tr>\n",
       "    <tr>\n",
       "      <th>1</th>\n",
       "      <td>-0.844885</td>\n",
       "      <td>-1.205066</td>\n",
       "      <td>-0.528319</td>\n",
       "      <td>-0.012301</td>\n",
       "      <td>-0.181541</td>\n",
       "      <td>-0.852200</td>\n",
       "      <td>-0.365061</td>\n",
       "      <td>-0.190672</td>\n",
       "      <td>0</td>\n",
       "    </tr>\n",
       "    <tr>\n",
       "      <th>2</th>\n",
       "      <td>1.233880</td>\n",
       "      <td>2.016662</td>\n",
       "      <td>-0.693761</td>\n",
       "      <td>-0.012301</td>\n",
       "      <td>-0.181541</td>\n",
       "      <td>-1.332500</td>\n",
       "      <td>0.604397</td>\n",
       "      <td>-0.105584</td>\n",
       "      <td>1</td>\n",
       "    </tr>\n",
       "    <tr>\n",
       "      <th>3</th>\n",
       "      <td>-0.844885</td>\n",
       "      <td>-1.073567</td>\n",
       "      <td>-0.528319</td>\n",
       "      <td>-0.695245</td>\n",
       "      <td>-0.540642</td>\n",
       "      <td>-0.633881</td>\n",
       "      <td>-0.920763</td>\n",
       "      <td>-1.041549</td>\n",
       "      <td>0</td>\n",
       "    </tr>\n",
       "    <tr>\n",
       "      <th>4</th>\n",
       "      <td>-1.141852</td>\n",
       "      <td>0.504422</td>\n",
       "      <td>-2.679076</td>\n",
       "      <td>0.670643</td>\n",
       "      <td>0.316566</td>\n",
       "      <td>1.549303</td>\n",
       "      <td>5.484909</td>\n",
       "      <td>-0.020496</td>\n",
       "      <td>1</td>\n",
       "    </tr>\n",
       "  </tbody>\n",
       "</table>\n",
       "</div>"
      ],
      "text/plain": [
       "   pregnants  Plasma_glucose_concentration  blood_pressure  \\\n",
       "0   0.639947                      0.866045       -0.031990   \n",
       "1  -0.844885                     -1.205066       -0.528319   \n",
       "2   1.233880                      2.016662       -0.693761   \n",
       "3  -0.844885                     -1.073567       -0.528319   \n",
       "4  -1.141852                      0.504422       -2.679076   \n",
       "\n",
       "   Triceps_skin_fold_thickness  serum_insulin       BMI  \\\n",
       "0                     0.670643      -0.181541  0.166619   \n",
       "1                    -0.012301      -0.181541 -0.852200   \n",
       "2                    -0.012301      -0.181541 -1.332500   \n",
       "3                    -0.695245      -0.540642 -0.633881   \n",
       "4                     0.670643       0.316566  1.549303   \n",
       "\n",
       "   Diabetes_pedigree_function       Age  Target  \n",
       "0                    0.468492  1.425995       1  \n",
       "1                   -0.365061 -0.190672       0  \n",
       "2                    0.604397 -0.105584       1  \n",
       "3                   -0.920763 -1.041549       0  \n",
       "4                    5.484909 -0.020496       1  "
      ]
     },
     "execution_count": 3,
     "metadata": {},
     "output_type": "execute_result"
    }
   ],
   "source": [
    "train = pd.read_csv('FE_pima-indians-diabetes.csv')\n",
    "train.head()"
   ]
  },
  {
   "cell_type": "markdown",
   "metadata": {},
   "source": [
    "## 数据探索与特征工程　见0_EDA_diabetes.ipynb、1_FE_diabetes.ipynb"
   ]
  },
  {
   "cell_type": "markdown",
   "metadata": {},
   "source": [
    "## 2. 数据分割\n",
    "训练集测试集8/2分;"
   ]
  },
  {
   "cell_type": "code",
   "execution_count": 4,
   "metadata": {
    "collapsed": true
   },
   "outputs": [],
   "source": [
    "from sklearn.model_selection import train_test_split\n",
    "y = train['Target']\n",
    "X = train.drop(['Target'], axis=1)\n",
    "\n",
    "X_train, X_test,y_train, y_test = train_test_split(X, y, test_size=0.2, random_state=42)\n",
    "\n",
    "columns_name = X.columns"
   ]
  },
  {
   "cell_type": "markdown",
   "metadata": {},
   "source": [
    "## 3.训练模型"
   ]
  },
  {
   "cell_type": "code",
   "execution_count": 5,
   "metadata": {},
   "outputs": [
    {
     "data": {
      "text/plain": [
       "array([[ 0.22643884,  1.11271133, -0.15100003,  0.07127163, -0.13534381,\n",
       "         0.68116965,  0.20030869,  0.39982822]])"
      ]
     },
     "execution_count": 5,
     "metadata": {},
     "output_type": "execute_result"
    }
   ],
   "source": [
    "from sklearn.linear_model import LogisticRegression\n",
    "\n",
    "# 使用默认配置分类器\n",
    "lr = LogisticRegression()\n",
    "\n",
    "# 训练\n",
    "lr.fit(X_train, y_train)\n",
    "\n",
    "# 在测试集上测试\n",
    "y_test_pred_lr = lr.predict(X_test)\n",
    "\n",
    "# 模型权重\n",
    "lr.coef_"
   ]
  },
  {
   "cell_type": "code",
   "execution_count": 6,
   "metadata": {},
   "outputs": [
    {
     "data": {
      "text/plain": [
       "array([[ 0.72467795,  0.27532205],\n",
       "       [ 0.83113632,  0.16886368],\n",
       "       [ 0.89155287,  0.10844713],\n",
       "       [ 0.84420033,  0.15579967],\n",
       "       [ 0.53548386,  0.46451614],\n",
       "       [ 0.56388091,  0.43611909],\n",
       "       [ 0.9857578 ,  0.0142422 ],\n",
       "       [ 0.61390743,  0.38609257],\n",
       "       [ 0.4226831 ,  0.5773169 ],\n",
       "       [ 0.23730854,  0.76269146],\n",
       "       [ 0.77577896,  0.22422104],\n",
       "       [ 0.10685984,  0.89314016],\n",
       "       [ 0.62260429,  0.37739571],\n",
       "       [ 0.71779258,  0.28220742],\n",
       "       [ 0.92077403,  0.07922597],\n",
       "       [ 0.59422074,  0.40577926],\n",
       "       [ 0.88638976,  0.11361024],\n",
       "       [ 0.92525227,  0.07474773],\n",
       "       [ 0.27360556,  0.72639444],\n",
       "       [ 0.42024042,  0.57975958],\n",
       "       [ 0.81137231,  0.18862769],\n",
       "       [ 0.92324249,  0.07675751],\n",
       "       [ 0.48342538,  0.51657462],\n",
       "       [ 0.90485462,  0.09514538],\n",
       "       [ 0.44079602,  0.55920398],\n",
       "       [ 0.11326737,  0.88673263],\n",
       "       [ 0.89180018,  0.10819982],\n",
       "       [ 0.9704922 ,  0.0295078 ],\n",
       "       [ 0.73685656,  0.26314344],\n",
       "       [ 0.89337599,  0.10662401],\n",
       "       [ 0.07156468,  0.92843532],\n",
       "       [ 0.14303801,  0.85696199],\n",
       "       [ 0.18319825,  0.81680175],\n",
       "       [ 0.3353736 ,  0.6646264 ],\n",
       "       [ 0.4259992 ,  0.5740008 ],\n",
       "       [ 0.27746413,  0.72253587],\n",
       "       [ 0.02470798,  0.97529202],\n",
       "       [ 0.79046636,  0.20953364],\n",
       "       [ 0.55015624,  0.44984376],\n",
       "       [ 0.50814107,  0.49185893],\n",
       "       [ 0.93376342,  0.06623658],\n",
       "       [ 0.4385599 ,  0.5614401 ],\n",
       "       [ 0.4882694 ,  0.5117306 ],\n",
       "       [ 0.69200969,  0.30799031],\n",
       "       [ 0.97332779,  0.02667221],\n",
       "       [ 0.43905482,  0.56094518],\n",
       "       [ 0.35076545,  0.64923455],\n",
       "       [ 0.80714102,  0.19285898],\n",
       "       [ 0.66803689,  0.33196311],\n",
       "       [ 0.03964552,  0.96035448],\n",
       "       [ 0.95947329,  0.04052671],\n",
       "       [ 0.30885747,  0.69114253],\n",
       "       [ 0.16426054,  0.83573946],\n",
       "       [ 0.75372681,  0.24627319],\n",
       "       [ 0.89526854,  0.10473146],\n",
       "       [ 0.95988945,  0.04011055],\n",
       "       [ 0.22997452,  0.77002548],\n",
       "       [ 0.95125673,  0.04874327],\n",
       "       [ 0.5752767 ,  0.4247233 ],\n",
       "       [ 0.23784471,  0.76215529],\n",
       "       [ 0.27359742,  0.72640258],\n",
       "       [ 0.68496377,  0.31503623],\n",
       "       [ 0.80455163,  0.19544837],\n",
       "       [ 0.81026316,  0.18973684],\n",
       "       [ 0.92277547,  0.07722453],\n",
       "       [ 0.36610431,  0.63389569],\n",
       "       [ 0.96055449,  0.03944551],\n",
       "       [ 0.27351395,  0.72648605],\n",
       "       [ 0.96463852,  0.03536148],\n",
       "       [ 0.2167072 ,  0.7832928 ],\n",
       "       [ 0.27968817,  0.72031183],\n",
       "       [ 0.9454683 ,  0.0545317 ],\n",
       "       [ 0.84263698,  0.15736302],\n",
       "       [ 0.88712682,  0.11287318],\n",
       "       [ 0.91394696,  0.08605304],\n",
       "       [ 0.5384127 ,  0.4615873 ],\n",
       "       [ 0.85390392,  0.14609608],\n",
       "       [ 0.86284797,  0.13715203],\n",
       "       [ 0.85604454,  0.14395546],\n",
       "       [ 0.77703841,  0.22296159],\n",
       "       [ 0.33695525,  0.66304475],\n",
       "       [ 0.84585   ,  0.15415   ],\n",
       "       [ 0.94359934,  0.05640066],\n",
       "       [ 0.57536879,  0.42463121],\n",
       "       [ 0.74245712,  0.25754288],\n",
       "       [ 0.13969901,  0.86030099],\n",
       "       [ 0.1012823 ,  0.8987177 ],\n",
       "       [ 0.68065559,  0.31934441],\n",
       "       [ 0.89588622,  0.10411378],\n",
       "       [ 0.92141   ,  0.07859   ],\n",
       "       [ 0.93514601,  0.06485399],\n",
       "       [ 0.78704158,  0.21295842],\n",
       "       [ 0.9644802 ,  0.0355198 ],\n",
       "       [ 0.70057561,  0.29942439],\n",
       "       [ 0.47181181,  0.52818819],\n",
       "       [ 0.36398968,  0.63601032],\n",
       "       [ 0.66169814,  0.33830186],\n",
       "       [ 0.87733855,  0.12266145],\n",
       "       [ 0.32981283,  0.67018717],\n",
       "       [ 0.93265576,  0.06734424],\n",
       "       [ 0.24052674,  0.75947326],\n",
       "       [ 0.9389681 ,  0.0610319 ],\n",
       "       [ 0.23372711,  0.76627289],\n",
       "       [ 0.45432668,  0.54567332],\n",
       "       [ 0.34966344,  0.65033656],\n",
       "       [ 0.75763209,  0.24236791],\n",
       "       [ 0.70987426,  0.29012574],\n",
       "       [ 0.21767168,  0.78232832],\n",
       "       [ 0.87640956,  0.12359044],\n",
       "       [ 0.51930415,  0.48069585],\n",
       "       [ 0.91868696,  0.08131304],\n",
       "       [ 0.64638317,  0.35361683],\n",
       "       [ 0.83759539,  0.16240461],\n",
       "       [ 0.2093341 ,  0.7906659 ],\n",
       "       [ 0.81496126,  0.18503874],\n",
       "       [ 0.69067847,  0.30932153],\n",
       "       [ 0.23251102,  0.76748898],\n",
       "       [ 0.79469532,  0.20530468],\n",
       "       [ 0.94237992,  0.05762008],\n",
       "       [ 0.67014262,  0.32985738],\n",
       "       [ 0.94457037,  0.05542963],\n",
       "       [ 0.68338416,  0.31661584],\n",
       "       [ 0.77339086,  0.22660914],\n",
       "       [ 0.92761989,  0.07238011],\n",
       "       [ 0.72517463,  0.27482537],\n",
       "       [ 0.56509551,  0.43490449],\n",
       "       [ 0.71000411,  0.28999589],\n",
       "       [ 0.11795312,  0.88204688],\n",
       "       [ 0.08179203,  0.91820797],\n",
       "       [ 0.25644861,  0.74355139],\n",
       "       [ 0.272517  ,  0.727483  ],\n",
       "       [ 0.12495974,  0.87504026],\n",
       "       [ 0.91722153,  0.08277847],\n",
       "       [ 0.5394072 ,  0.4605928 ],\n",
       "       [ 0.14490045,  0.85509955],\n",
       "       [ 0.89668195,  0.10331805],\n",
       "       [ 0.84315472,  0.15684528],\n",
       "       [ 0.13944159,  0.86055841],\n",
       "       [ 0.18673141,  0.81326859],\n",
       "       [ 0.98828551,  0.01171449],\n",
       "       [ 0.91871165,  0.08128835],\n",
       "       [ 0.96383632,  0.03616368],\n",
       "       [ 0.79380971,  0.20619029],\n",
       "       [ 0.56562714,  0.43437286],\n",
       "       [ 0.89033737,  0.10966263],\n",
       "       [ 0.76006417,  0.23993583],\n",
       "       [ 0.88966786,  0.11033214],\n",
       "       [ 0.98451641,  0.01548359],\n",
       "       [ 0.60668027,  0.39331973],\n",
       "       [ 0.24061207,  0.75938793],\n",
       "       [ 0.88900134,  0.11099866],\n",
       "       [ 0.56495516,  0.43504484],\n",
       "       [ 0.72793488,  0.27206512],\n",
       "       [ 0.80598011,  0.19401989]])"
      ]
     },
     "execution_count": 6,
     "metadata": {},
     "output_type": "execute_result"
    }
   ],
   "source": [
    "# 测试集腿硬预测值\n",
    "lr.predict_proba(X_test)"
   ]
  },
  {
   "cell_type": "code",
   "execution_count": 7,
   "metadata": {},
   "outputs": [
    {
     "data": {
      "text/html": [
       "<div>\n",
       "<style>\n",
       "    .dataframe thead tr:only-child th {\n",
       "        text-align: right;\n",
       "    }\n",
       "\n",
       "    .dataframe thead th {\n",
       "        text-align: left;\n",
       "    }\n",
       "\n",
       "    .dataframe tbody tr th {\n",
       "        vertical-align: top;\n",
       "    }\n",
       "</style>\n",
       "<table border=\"1\" class=\"dataframe\">\n",
       "  <thead>\n",
       "    <tr style=\"text-align: right;\">\n",
       "      <th></th>\n",
       "      <th>coef</th>\n",
       "      <th>columns</th>\n",
       "    </tr>\n",
       "  </thead>\n",
       "  <tbody>\n",
       "    <tr>\n",
       "      <th>1</th>\n",
       "      <td>[1.11271133094]</td>\n",
       "      <td>Plasma_glucose_concentration</td>\n",
       "    </tr>\n",
       "    <tr>\n",
       "      <th>5</th>\n",
       "      <td>[0.681169645302]</td>\n",
       "      <td>BMI</td>\n",
       "    </tr>\n",
       "    <tr>\n",
       "      <th>7</th>\n",
       "      <td>[0.399828217334]</td>\n",
       "      <td>Age</td>\n",
       "    </tr>\n",
       "    <tr>\n",
       "      <th>0</th>\n",
       "      <td>[0.226438839584]</td>\n",
       "      <td>pregnants</td>\n",
       "    </tr>\n",
       "    <tr>\n",
       "      <th>6</th>\n",
       "      <td>[0.200308689896]</td>\n",
       "      <td>Diabetes_pedigree_function</td>\n",
       "    </tr>\n",
       "    <tr>\n",
       "      <th>3</th>\n",
       "      <td>[0.0712716268218]</td>\n",
       "      <td>Triceps_skin_fold_thickness</td>\n",
       "    </tr>\n",
       "    <tr>\n",
       "      <th>4</th>\n",
       "      <td>[-0.135343807819]</td>\n",
       "      <td>serum_insulin</td>\n",
       "    </tr>\n",
       "    <tr>\n",
       "      <th>2</th>\n",
       "      <td>[-0.15100002588]</td>\n",
       "      <td>blood_pressure</td>\n",
       "    </tr>\n",
       "  </tbody>\n",
       "</table>\n",
       "</div>"
      ],
      "text/plain": [
       "                coef                       columns\n",
       "1    [1.11271133094]  Plasma_glucose_concentration\n",
       "5   [0.681169645302]                           BMI\n",
       "7   [0.399828217334]                           Age\n",
       "0   [0.226438839584]                     pregnants\n",
       "6   [0.200308689896]    Diabetes_pedigree_function\n",
       "3  [0.0712716268218]   Triceps_skin_fold_thickness\n",
       "4  [-0.135343807819]                 serum_insulin\n",
       "2   [-0.15100002588]                blood_pressure"
      ]
     },
     "execution_count": 7,
     "metadata": {},
     "output_type": "execute_result"
    }
   ],
   "source": [
    "# 查看各模型权重\n",
    "fs = pd.DataFrame({'columns':list(columns_name), 'coef':list((lr.coef_.T))})\n",
    "fs.sort_values(by=['coef'], ascending=False)"
   ]
  },
  {
   "cell_type": "markdown",
   "metadata": {},
   "source": [
    "## 4.模型评价"
   ]
  },
  {
   "cell_type": "code",
   "execution_count": 8,
   "metadata": {},
   "outputs": [
    {
     "data": {
      "text/plain": [
       "0.75324675324675328"
      ]
     },
     "execution_count": 8,
     "metadata": {},
     "output_type": "execute_result"
    }
   ],
   "source": [
    "# 正确率评价\n",
    "lr.score(X_test, y_test)"
   ]
  },
  {
   "cell_type": "code",
   "execution_count": 9,
   "metadata": {},
   "outputs": [
    {
     "data": {
      "text/plain": [
       "8.5226434815773988"
      ]
     },
     "execution_count": 9,
     "metadata": {},
     "output_type": "execute_result"
    }
   ],
   "source": [
    "# log似然损失评价\n",
    "from sklearn.metrics import log_loss\n",
    "log_loss(y_test, y_test_pred_lr)"
   ]
  },
  {
   "cell_type": "code",
   "execution_count": 10,
   "metadata": {},
   "outputs": [
    {
     "name": "stdout",
     "output_type": "stream",
     "text": [
      "('logloss of each fold is:', array([ 0.51946855,  0.44590087,  0.48482846,  0.48318246,  0.46157091]))\n"
     ]
    }
   ],
   "source": [
    "# 5折交叉验证\n",
    "from sklearn.model_selection import cross_val_score\n",
    "loss = cross_val_score(lr, X_train, y_train, cv=5, scoring='neg_log_loss')\n",
    "\n",
    "print('logloss of each fold is:',-loss)"
   ]
  },
  {
   "cell_type": "markdown",
   "metadata": {},
   "source": [
    "## 5. 超参数调优"
   ]
  },
  {
   "cell_type": "markdown",
   "metadata": {},
   "source": [
    "### logloss正则参数调优"
   ]
  },
  {
   "cell_type": "code",
   "execution_count": 11,
   "metadata": {},
   "outputs": [
    {
     "data": {
      "text/plain": [
       "GridSearchCV(cv=5, error_score='raise',\n",
       "       estimator=LogisticRegression(C=1.0, class_weight=None, dual=False, fit_intercept=True,\n",
       "          intercept_scaling=1, max_iter=100, multi_class='ovr', n_jobs=1,\n",
       "          penalty='l2', random_state=None, solver='liblinear', tol=0.0001,\n",
       "          verbose=0, warm_start=False),\n",
       "       fit_params={}, iid=True, n_jobs=1,\n",
       "       param_grid={'penalty': ['l1', 'l2'], 'C': [0.1, 1, 10, 100, 1000]},\n",
       "       pre_dispatch='2*n_jobs', refit=True, return_train_score=True,\n",
       "       scoring='neg_log_loss', verbose=0)"
      ]
     },
     "execution_count": 11,
     "metadata": {},
     "output_type": "execute_result"
    }
   ],
   "source": [
    "from sklearn.model_selection import GridSearchCV\n",
    "\n",
    "# 正则/参数范围\n",
    "penaltys = ['l1', 'l2']\n",
    "Cs = [0.1, 1, 10, 100, 1000]\n",
    "tuned_para = dict(penalty = penaltys, C = Cs)\n",
    "\n",
    "lr.set_params(solver='liblinear')\n",
    "#这里用负log似然函数评价\n",
    "grid = GridSearchCV(lr, tuned_para, cv=5,scoring='neg_log_loss')\n",
    "grid.fit(X_train, y_train)"
   ]
  },
  {
   "cell_type": "code",
   "execution_count": 12,
   "metadata": {},
   "outputs": [
    {
     "name": "stdout",
     "output_type": "stream",
     "text": [
      "('best score:', 0.47873499895843319)\n",
      "('best params:', {'penalty': 'l1', 'C': 1})\n"
     ]
    }
   ],
   "source": [
    "print('best score:', -grid.best_score_)\n",
    "print('best params:', grid.best_params_)"
   ]
  },
  {
   "cell_type": "code",
   "execution_count": 13,
   "metadata": {},
   "outputs": [
    {
     "data": {
      "image/png": "[encoded data removed]",
      "text/plain": [
       "<matplotlib.figure.Figure at 0x7fb0bfdad650>"
      ]
     },
     "metadata": {},
     "output_type": "display_data"
    }
   ],
   "source": [
    "# CV误差曲线\n",
    "test_means = grid.cv_results_['mean_test_score']\n",
    "test_stds = grid.cv_results_['std_test_score']\n",
    "train_means = grid.cv_results_['mean_train_score']\n",
    "train_stds = grid.cv_results_['std_train_score']\n",
    "\n",
    "#plot results\n",
    "n_Cs = len(Cs)\n",
    "number_penaltys = len(penaltys)\n",
    "test_scores = np.array(test_means).reshape(n_Cs,number_penaltys)\n",
    "train_scores = np.array(train_means).reshape(n_Cs,number_penaltys)\n",
    "test_stds = np.array(test_stds).reshape(n_Cs,number_penaltys)\n",
    "train_stds = np.array(train_stds).reshape(n_Cs,number_penaltys)\n",
    "\n",
    "x_axis = np.log10(Cs)\n",
    "\n",
    "for i,value in enumerate(penaltys):\n",
    "    plt.errorbar(x_axis, -test_scores[:,i], yerr=test_stds[:,i], label=penaltys[i]+'Test')\n",
    "    plt.errorbar(x_axis, -train_scores[:,i], yerr=train_stds[:,i], label=penaltys[i]+'Train')\n",
    "    \n",
    "    \n",
    "    \n",
    "plt.legend()   \n",
    "plt.xlabel('log(C)')\n",
    "plt.ylabel('logloss')\n",
    "\n",
    "plt.show()"
   ]
  },
  {
   "cell_type": "markdown",
   "metadata": {},
   "source": [
    "### 正确率调优"
   ]
  },
  {
   "cell_type": "code",
   "execution_count": 34,
   "metadata": {},
   "outputs": [
    {
     "data": {
      "text/plain": [
       "LogisticRegressionCV(Cs=[0.1, 1, 10, 100, 1000], class_weight=None, cv=5,\n",
       "           dual=False, fit_intercept=True, intercept_scaling=1.0,\n",
       "           max_iter=100, multi_class='ovr', n_jobs=1, penalty='l1',\n",
       "           random_state=None, refit=True, scoring='accuracy',\n",
       "           solver='liblinear', tol=0.0001, verbose=0)"
      ]
     },
     "execution_count": 34,
     "metadata": {},
     "output_type": "execute_result"
    }
   ],
   "source": [
    "from sklearn.linear_model import LogisticRegressionCV\n",
    "\n",
    "# 正则/参数范围\n",
    "penaltys = ['l1', 'l2']\n",
    "Cs = [0.1, 1, 10, 100, 1000]\n",
    "\n",
    "\n",
    "lr_cv = LogisticRegressionCV(penalty = 'l1', Cs = Cs, cv=5,scoring='accuracy', solver='liblinear')\n",
    "#这里用正确率评价\n",
    "lr_cv.fit(X_train, y_train)"
   ]
  },
  {
   "cell_type": "code",
   "execution_count": 49,
   "metadata": {},
   "outputs": [
    {
     "name": "stdout",
     "output_type": "stream",
     "text": [
      "('scores:', array([ 0.73387097,  0.73387097,  0.72580645,  0.72580645,  0.72580645]))\n"
     ]
    }
   ],
   "source": [
    "print('scores:', lr_cv.scores_[1][0])"
   ]
  },
  {
   "cell_type": "code",
   "execution_count": 68,
   "metadata": {},
   "outputs": [
    {
     "name": "stdout",
     "output_type": "stream",
     "text": [
      "[ 0.36451613  0.40162602  0.37642276  0.37213115  0.39590164  0.          0.        ]\n"
     ]
    },
    {
     "data": {
      "image/png": "[encoded data removed]",
      "text/plain": [
       "<matplotlib.figure.Figure at 0x7fb0bfb45290>"
      ]
     },
     "metadata": {},
     "output_type": "display_data"
    }
   ],
   "source": [
    "# scores_：dict with classes as the keys, and the values as the grid of scores obtained during cross-validating each fold,\n",
    "# Each dict value has shape (n_folds, len(Cs))\n",
    "Cs = [1e-3, 1e-2, 1e-1, 1, 10, 100, 1000]\n",
    "n_Cs = len(Cs)\n",
    "n_classes = 2\n",
    "scores =  np.zeros((n_classes,n_Cs))\n",
    "\n",
    "\n",
    "j = 0\n",
    "\n",
    "for i in lr_cv.scores_[1]:\n",
    "    scores[0][j] = np.mean(i,axis=0)\n",
    "    j=j+1\n",
    "    \n",
    "\n",
    "mse_mean = np.mean(scores, axis = 0)\n",
    "print mse_mean\n",
    "plt.plot(Cs, mse_mean.reshape(n_Cs,1)) \n",
    "#plt(np.log10(reg.Cs)*np.ones(3), [0.28, 0.29, 0.30])\n",
    "plt.xlabel('C')\n",
    "plt.ylabel('loss')\n",
    "plt.show()\n",
    "\n",
    "#print ('C is:',lr_cv.C_)  #对多类分类问题，每个类别的分类器有一个C\n"
   ]
  }
 ],
 "metadata": {
  "kernelspec": {
   "display_name": "Python 2",
   "language": "python",
   "name": "python2"
  },
  "language_info": {
   "codemirror_mode": {
    "name": "ipython",
    "version": 2
   },
   "file_extension": ".py",
   "mimetype": "text/x-python",
   "name": "python",
   "nbconvert_exporter": "python",
   "pygments_lexer": "ipython2",
   "version": "2.7.11"
  }
 },
 "nbformat": 4,
 "nbformat_minor": 1
}
