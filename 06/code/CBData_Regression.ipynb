{
 "cells": [
  {
   "cell_type": "markdown",
   "metadata": {
    "collapsed": true
   },
   "source": [
    "## 进阶作业：共享单车用户数预测"
   ]
  },
  {
   "cell_type": "markdown",
   "metadata": {},
   "source": [
    "### 作业要求:\n",
    "利用美国某共享单车公司2011/2012年数据，训练和测试一个模型，并对模型的性能和预测能力进行测试。\n",
    "\n",
    "### 批改标准\n",
    "3. 对全体数据，随机选择其中80%做训练数据，剩下20%为测试数据，评价指标为RMSE。（10分） \n",
    "4. 用训练数据训练最小二乘线性回归模型（20分）、岭回归模型、Lasso模型，其中岭回归模型（30分）和Lasso模型（30分），注意岭回归模型和Lasso模型的正则超参数调优。 \n",
    "5. 比较用上述三种模型得到的各特征的系数，以及各模型在测试集上的性能。并简单说明原因.\n",
    "\n",
    "### 实现思路\n",
    "特征工程：\n",
    "\n",
    "1. 数据探索\n",
    "\n",
    " 使用pandas查看数据规模、特征维数、特征涵义、特征数据类型；\n",
    " 查看特征描述统计量、空值数量；\n",
    " 用直方图、箱体图、提琴图等查看单变量大致分布、是否有噪声数据；\n",
    " 用相关矩阵热力图、scatter/hue查看两特征之间相关性；\n",
    "\n",
    "2. 数据预处理\n",
    "    \n",
    "    删除冗余、噪音数据；\n",
    "    处理缺失值；\n",
    "    数据分离；\n",
    "    离散型特征编码；\n",
    "    数值特征标准化；\n",
    "    \n",
    "3. 确定模型类型\n",
    "  \n",
    "4. 评价性能"
   ]
  },
  {
   "cell_type": "markdown",
   "metadata": {},
   "source": [
    "## 1.导入必要工具包"
   ]
  },
  {
   "cell_type": "code",
   "execution_count": 66,
   "metadata": {
    "collapsed": true
   },
   "outputs": [],
   "source": [
    "import numpy as np #矩阵处理\n",
    "import pandas as pd #数据处理\n",
    "\n",
    "from sklearn.metrics import r2_score # 评价回归预测模型的性能\n",
    "\n",
    "from sklearn.model_selection import train_test_split\n",
    "\n",
    "import matplotlib.pyplot as plt #画图\n",
    "import seaborn as sns\n",
    "\n",
    "from sklearn.preprocessing import MinMaxScaler,StandardScaler,OneHotEncoder # 数据标准化\n",
    "\n",
    "from scipy.sparse import hstack\n",
    "\n",
    "# 图形出现在Notebook里而不是新窗口\n",
    "%matplotlib inline\n"
   ]
  },
  {
   "cell_type": "markdown",
   "metadata": {},
   "source": [
    "## 2.数据探索\n",
    "见文件　CBdata.ipynb"
   ]
  },
  {
   "cell_type": "markdown",
   "metadata": {
    "collapsed": true
   },
   "source": [
    "### 2.1 读取数据"
   ]
  },
  {
   "cell_type": "code",
   "execution_count": 68,
   "metadata": {},
   "outputs": [
    {
     "data": {
      "text/plain": [
       "(731, 16)"
      ]
     },
     "execution_count": 68,
     "metadata": {},
     "output_type": "execute_result"
    }
   ],
   "source": [
    "# dapath = '/media/wyb/work/AI-learning/ai/week-00/ML-Capital-Bikeshare/dataset/'  # 数据文件路径\n",
    "\n",
    "cb = pd.read_csv('../dataset/day.csv')  # 以csv格式读取数据\n",
    "\n",
    "# print \"cb　data type is %s\" % cb.dtypes  # 输出各字段数据类型\n",
    "\n",
    "cb.head()  # 打印文件头部内容，查看各字段前五列数据值\n",
    "# print cb.tail()  # 打印数据尾部五个数据值\n",
    "\n",
    "\n",
    "# 读取样本数目、特征维数每个特征的类型、空值样本数目、数据类型\n",
    "cb.shape\n",
    "\n"
   ]
  },
  {
   "cell_type": "markdown",
   "metadata": {},
   "source": [
    "## 2.2 数据准备"
   ]
  },
  {
   "cell_type": "code",
   "execution_count": 69,
   "metadata": {
    "scrolled": true
   },
   "outputs": [],
   "source": [
    "y = cb['cnt']\n",
    "\n",
    "X = cb.drop(['dteday','instant','casual','registered','cnt'],axis=1)\n",
    "\n",
    "# 训练数据与测试数据8/2分\n",
    "X_train, X_test, y_train, y_test = train_test_split(X, y, test_size=0.2, random_state=42)\n"
   ]
  },
  {
   "cell_type": "code",
   "execution_count": 70,
   "metadata": {},
   "outputs": [
    {
     "name": "stdout",
     "output_type": "stream",
     "text": [
      "The RMSE of LinearRegression on test is 4724.5443254\n",
      "The RMSE of LinearRegression on train is 4946.31401315\n"
     ]
    }
   ],
   "source": [
    "# 使用RMSE评价\n",
    "from sklearn.metrics import mean_squared_error\n",
    "\n",
    "rmse_on_test = np.sqrt(mean_squared_error(y_test, y_test_pred_lr))\n",
    "rmse_on_train = np.sqrt(mean_squared_error(y_train, y_train_pred_lr))\n",
    "\n",
    "# 测试集RMSE值\n",
    "print 'The RMSE of LinearRegression on test is',rmse_on_test\n",
    "\n",
    "# 训练集RMSE值\n",
    "print 'The RMSE of LinearRegression on train is',rmse_on_train"
   ]
  },
  {
   "cell_type": "code",
   "execution_count": 71,
   "metadata": {
    "collapsed": true
   },
   "outputs": [],
   "source": [
    "# 从训练数据中获取输入特征X和输出特征Y\n",
    "#y_train = y_train['cnt'].values\n",
    "\n",
    "#　删除暂时无关特征\n",
    "# X_train = X_train.drop(['dteday','instant','casual','registered'],axis=1)\n",
    "\n",
    "# X_test = X_test.drop(['dteday','instant','casual','registered'],axis=1)\n",
    "\n",
    "# columns = X_test.columns"
   ]
  },
  {
   "cell_type": "markdown",
   "metadata": {},
   "source": [
    "## 2.3 数据预处理/特征工程"
   ]
  },
  {
   "cell_type": "markdown",
   "metadata": {},
   "source": [
    "### 2.3.1　数据预处理"
   ]
  },
  {
   "cell_type": "code",
   "execution_count": 72,
   "metadata": {},
   "outputs": [
    {
     "data": {
      "text/plain": [
       "(584, 31)"
      ]
     },
     "execution_count": 72,
     "metadata": {},
     "output_type": "execute_result"
    }
   ],
   "source": [
    "# OneHotEncoder() sparse为false,输出为稀疏矩阵；默认为True\n",
    "OneHotEnc = OneHotEncoder()\n",
    "\n",
    "\n",
    "# 对训练数据中输入特征x中类别变量进行OneHotEncoder处理\n",
    "x_train_cat = OneHotEnc.fit_transform(X_train[['season','mnth','holiday','weekday','workingday']])\n",
    "\n",
    "x_train_num =X_train[['temp','atemp','hum','windspeed']]\n",
    "\n",
    "# 将变换后的变量合到一起\n",
    "x_train = hstack((x_train_cat, x_train_num))\n",
    "x_train.shape"
   ]
  },
  {
   "cell_type": "code",
   "execution_count": 73,
   "metadata": {},
   "outputs": [],
   "source": [
    "# 对测试数据预处理\n",
    "x_test_cat = OneHotEnc.transform(X_test[['season','mnth','holiday','weekday','workingday']])\n",
    "x_test_num = X_test[['temp','atemp','hum','windspeed']]\n",
    "x_test = hstack((x_test_cat, x_test_num))"
   ]
  },
  {
   "cell_type": "code",
   "execution_count": 74,
   "metadata": {},
   "outputs": [],
   "source": [
    "# 对y做标准化处理\n",
    "from sklearn.preprocessing import StandardScaler\n",
    "ss_y = StandardScaler()\n",
    "\n",
    "# 训练集拟合和标准化\n",
    "y_train = ss_y.fit_transform(y_train.values.reshape(-1, 1))\n",
    "\n",
    "# 测试集目标拟合和标准化\n",
    "y_test = ss_y.fit_transform(y_test.values.reshape(-1, 1))\n"
   ]
  },
  {
   "cell_type": "markdown",
   "metadata": {},
   "source": [
    "## 3.确定模型类型\n",
    "### 3.1 尝试缺省参数的最小二乘线性回归"
   ]
  },
  {
   "cell_type": "code",
   "execution_count": 75,
   "metadata": {},
   "outputs": [
    {
     "data": {
      "text/plain": [
       "array([[-0.47238899,  0.02311387, -0.1561058 ,  0.3373873 ,  0.14250572,\n",
       "         0.14378787,  0.27946252, -0.06258733,  0.05119429, -0.28916447,\n",
       "        -0.60472895, -0.30937698,  0.25940269,  0.12536915, -0.064652  ,\n",
       "         0.06079388, -0.02142027, -0.24657335, -0.08069523, -0.02409985,\n",
       "        -0.10194628, -0.09238374, -0.12169934,  0.01660969,  0.13622112,\n",
       "        -0.19104745, -0.07694617,  3.73675233,  0.34798507, -2.19332891,\n",
       "        -1.99083608]])"
      ]
     },
     "execution_count": 75,
     "metadata": {},
     "output_type": "execute_result"
    }
   ],
   "source": [
    "#　线性回归\n",
    "from sklearn.linear_model import LinearRegression\n",
    "\n",
    "#使用默认配置初始化\n",
    "lr = LinearRegression(copy_X=True)\n",
    "\n",
    "# 训练模型参数\n",
    "lr.fit(x_train, y_train)\n",
    "\n",
    "#分别在训练集与测试集预测\n",
    "y_train_pred_lr = lr.predict(x_train)\n",
    "y_test_pred_lr = lr.predict(x_test)\n",
    "\n",
    "# 查看各特征权重，权重绝对值大小为该特征重要程度\n",
    "# fs = pd.DataFrame({'columns':list((lr.coef_.T)), \"coef\":list((lr.coef_.T))})\n",
    "# fs.sort_values(by=['coef'], ascending=False)\n",
    "\n",
    "# y_test_pred_lr\n"
   ]
  },
  {
   "cell_type": "markdown",
   "metadata": {},
   "source": [
    "### 　查看权重"
   ]
  },
  {
   "cell_type": "code",
   "execution_count": 128,
   "metadata": {},
   "outputs": [
    {
     "data": {
      "text/plain": [
       "array([[-0.47238899,  0.02311387, -0.1561058 ,  0.3373873 ,  0.14250572,\n",
       "         0.14378787,  0.27946252, -0.06258733,  0.05119429, -0.28916447,\n",
       "        -0.60472895, -0.30937698,  0.25940269,  0.12536915, -0.064652  ,\n",
       "         0.06079388, -0.02142027, -0.24657335, -0.08069523, -0.02409985,\n",
       "        -0.10194628, -0.09238374, -0.12169934,  0.01660969,  0.13622112,\n",
       "        -0.19104745, -0.07694617,  3.73675233,  0.34798507, -2.19332891,\n",
       "        -1.99083608]])"
      ]
     },
     "execution_count": 128,
     "metadata": {},
     "output_type": "execute_result"
    }
   ],
   "source": [
    "##　查看权重\n",
    "lr.coef_"
   ]
  },
  {
   "cell_type": "markdown",
   "metadata": {},
   "source": [
    "### 3.1.1 模型评价"
   ]
  },
  {
   "cell_type": "markdown",
   "metadata": {},
   "source": [
    "### R2"
   ]
  },
  {
   "cell_type": "code",
   "execution_count": 76,
   "metadata": {
    "scrolled": true
   },
   "outputs": [
    {
     "name": "stdout",
     "output_type": "stream",
     "text": [
      "The r2 score of LinearRegression on test is 0.516416916624\n",
      "The r2 score of LinearRegression on train is 0.573943964507\n"
     ]
    }
   ],
   "source": [
    "# 使用r2_score评价模型在测试及和训练集上的性能，并输出评估结果\n",
    "# 测试集\n",
    "print 'The r2 score of LinearRegression on test is',r2_score(y_test, y_test_pred_lr)\n",
    "\n",
    "# 训练集\n",
    "print 'The r2 score of LinearRegression on train is',r2_score(y_train, y_train_pred_lr)"
   ]
  },
  {
   "cell_type": "markdown",
   "metadata": {},
   "source": [
    "### cross_val_score"
   ]
  },
  {
   "cell_type": "code",
   "execution_count": 77,
   "metadata": {},
   "outputs": [
    {
     "name": "stdout",
     "output_type": "stream",
     "text": [
      "[ 0.74139467  0.80827741  0.71599085  0.80631461]\n"
     ]
    }
   ],
   "source": [
    "from sklearn.model_selection import cross_val_score\n",
    "\n",
    "print cross_val_score(lr, X_train, y_train, cv=4, n_jobs=2, pre_dispatch='2*n_jobs')"
   ]
  },
  {
   "cell_type": "code",
   "execution_count": 78,
   "metadata": {},
   "outputs": [
    {
     "data": {
      "text/plain": [
       "<matplotlib.legend.Legend at 0x7f1aa1951ed0>"
      ]
     },
     "execution_count": 78,
     "metadata": {},
     "output_type": "execute_result"
    },
    {
     "data": {
      "image/png": "[encoded data removed]",
      "text/plain": [
       "<matplotlib.figure.Figure at 0x7f1aa230d810>"
      ]
     },
     "metadata": {},
     "output_type": "display_data"
    }
   ],
   "source": [
    "# 在训练集上观测预测残差分布\n",
    "f, ax = plt.subplots(figsize=(7, 5))\n",
    "f.tight_layout()\n",
    "ax.hist(y_train - y_train_pred_lr, bins=40, label=\"Residuals Linear\", color='red', alpha=.5)\n",
    "ax.set_title(\"Histogram of Residuals\")\n",
    "ax.legend(loc='best')\n"
   ]
  },
  {
   "cell_type": "markdown",
   "metadata": {},
   "source": [
    "### 4.尝试岭回归"
   ]
  },
  {
   "cell_type": "markdown",
   "metadata": {},
   "source": [
    "### 4.1 训练模型"
   ]
  },
  {
   "cell_type": "code",
   "execution_count": 103,
   "metadata": {
    "collapsed": true
   },
   "outputs": [],
   "source": [
    "from sklearn.linear_model import RidgeCV\n",
    "\n",
    "#设置超参数量级范围\n",
    "alphas = [0.00001, 0.0001, 0.001, 0.01, 0.1, 1, 10, 100, 1000, 10000]\n",
    "\n",
    "#生成一个RidgeCV实例\n",
    "ridge = RidgeCV(alphas = alphas)"
   ]
  },
  {
   "cell_type": "code",
   "execution_count": 104,
   "metadata": {
    "scrolled": true
   },
   "outputs": [
    {
     "data": {
      "text/plain": [
       "RidgeCV(alphas=[1e-05, 0.0001, 0.001, 0.01, 0.1, 1, 10, 100, 1000, 10000],\n",
       "    cv=None, fit_intercept=True, gcv_mode=None, normalize=False,\n",
       "    scoring=None, store_cv_values=False)"
      ]
     },
     "execution_count": 104,
     "metadata": {},
     "output_type": "execute_result"
    }
   ],
   "source": [
    "# 模型训练\n",
    "ridge.fit(x_train, y_train)"
   ]
  },
  {
   "cell_type": "code",
   "execution_count": 105,
   "metadata": {},
   "outputs": [
    {
     "name": "stdout",
     "output_type": "stream",
     "text": [
      "('the best alpha ', 1.0)\n"
     ]
    }
   ],
   "source": [
    "# 预测\n",
    "y_test_pred_rg = ridge.predict(x_test)\n",
    "y_train_pred_rg = ridge.predict(x_train)\n",
    "print (('the best alpha '), ridge.alpha_)"
   ]
  },
  {
   "cell_type": "markdown",
   "metadata": {},
   "source": [
    "### 查看权重"
   ]
  },
  {
   "cell_type": "code",
   "execution_count": 106,
   "metadata": {},
   "outputs": [
    {
     "data": {
      "text/plain": [
       "array([[-0.46168155,  0.00818525, -0.12202999,  0.36173476, -0.0408129 ,\n",
       "         0.00579712,  0.20122712, -0.0687529 ,  0.14390119, -0.10350943,\n",
       "        -0.39027325, -0.13443184,  0.32533448,  0.09524976, -0.16768382,\n",
       "        -0.07983706, -0.01524595, -0.19854557, -0.08680722, -0.026129  ,\n",
       "        -0.08815302, -0.07817579, -0.09683106,  0.03498203,  0.12732254,\n",
       "        -0.15803025, -0.05576127,  1.91440229,  1.5263651 , -1.91091303,\n",
       "        -1.41702405]])"
      ]
     },
     "execution_count": 106,
     "metadata": {},
     "output_type": "execute_result"
    }
   ],
   "source": [
    "ridge.coef_"
   ]
  },
  {
   "cell_type": "markdown",
   "metadata": {},
   "source": [
    "### 4.2参数优化 \n",
    "### Ｑ1.请问助教，还有哪些参数调忧方法？"
   ]
  },
  {
   "cell_type": "code",
   "execution_count": 100,
   "metadata": {},
   "outputs": [
    {
     "name": "stdout",
     "output_type": "stream",
     "text": [
      "('the best alpha ', 0.5)\n"
     ]
    }
   ],
   "source": [
    "# 细化参数范围\n",
    "ridge.set_params(alphas=np.array([.1, .5, .9, 1.3, 1.7]))\n",
    "#ridge = RidgeCV(alphas=np.array([.1, .5, .9, 1.3, 1.7]))\n",
    "\n",
    "print (('the best alpha '), ridge.alpha_)"
   ]
  },
  {
   "cell_type": "code",
   "execution_count": 108,
   "metadata": {},
   "outputs": [
    {
     "name": "stdout",
     "output_type": "stream",
     "text": [
      "('the best alpha ', 0.40959183673469385)\n"
     ]
    }
   ],
   "source": [
    "# 提高精度\n",
    "alphas_to_test = np.linspace(0.01, 0.9)\n",
    "ridge.set_params(alphas=alphas_to_test, store_cv_values=True)\n",
    "ridge.fit(x_train, y_train)\n",
    "\n",
    "print (('the best alpha '), ridge.alpha_)"
   ]
  },
  {
   "cell_type": "code",
   "execution_count": 114,
   "metadata": {},
   "outputs": [
    {
     "name": "stdout",
     "output_type": "stream",
     "text": [
      "('the best alpha ', 0.40959183673469385)\n"
     ]
    }
   ],
   "source": [
    "# 再用新参数模型预测下\n",
    "y_test_pred_rg = ridge.predict(x_test)\n",
    "y_train_pred_rg = ridge.predict(x_train)\n",
    "print (('the best alpha '), ridge.alpha_)"
   ]
  },
  {
   "cell_type": "code",
   "execution_count": 109,
   "metadata": {},
   "outputs": [
    {
     "data": {
      "text/plain": [
       "(584, 1, 50)"
      ]
     },
     "execution_count": 109,
     "metadata": {},
     "output_type": "execute_result"
    }
   ],
   "source": [
    "ridge.cv_values_.shape"
   ]
  },
  {
   "cell_type": "markdown",
   "metadata": {},
   "source": [
    "### 可视化交叉验证过程"
   ]
  },
  {
   "cell_type": "markdown",
   "metadata": {},
   "source": [
    "### Ｑ2.请问助教，这里怎么修改？"
   ]
  },
  {
   "cell_type": "code",
   "execution_count": 113,
   "metadata": {},
   "outputs": [
    {
     "ename": "IndexError",
     "evalue": "index 22 is out of bounds for axis 0 with size 1",
     "output_type": "error",
     "traceback": [
      "\u001b[0;31m\u001b[0m",
      "\u001b[0;31mIndexError\u001b[0mTraceback (most recent call last)",
      "\u001b[0;32m<ipython-input-113-181dc25bfe52>\u001b[0m in \u001b[0;36m<module>\u001b[0;34m()\u001b[0m\n\u001b[1;32m      6\u001b[0m \u001b[0max\u001b[0m\u001b[0;34m.\u001b[0m\u001b[0mset_title\u001b[0m\u001b[0;34m(\u001b[0m\u001b[0;34mr'Various values of $\\alpha$'\u001b[0m\u001b[0;34m)\u001b[0m\u001b[0;34m\u001b[0m\u001b[0m\n\u001b[1;32m      7\u001b[0m \u001b[0;34m\u001b[0m\u001b[0m\n\u001b[0;32m----> 8\u001b[0;31m \u001b[0mtmp\u001b[0m \u001b[0;34m=\u001b[0m \u001b[0mridge\u001b[0m\u001b[0;34m.\u001b[0m\u001b[0mcv_values_\u001b[0m\u001b[0;34m.\u001b[0m\u001b[0mmean\u001b[0m\u001b[0;34m(\u001b[0m\u001b[0maxis\u001b[0m\u001b[0;34m=\u001b[0m\u001b[0;36m0\u001b[0m\u001b[0;34m)\u001b[0m\u001b[0;34m[\u001b[0m\u001b[0mmin_idx\u001b[0m\u001b[0;34m]\u001b[0m\u001b[0;34m\u001b[0m\u001b[0m\n\u001b[0m\u001b[1;32m      9\u001b[0m \u001b[0mxy\u001b[0m \u001b[0;34m=\u001b[0m \u001b[0;34m(\u001b[0m\u001b[0malphas_to_test\u001b[0m\u001b[0;34m[\u001b[0m\u001b[0mmin_idx\u001b[0m\u001b[0;34m]\u001b[0m\u001b[0;34m,\u001b[0m \u001b[0mtmp\u001b[0m\u001b[0;34m)\u001b[0m\u001b[0;34m\u001b[0m\u001b[0m\n\u001b[1;32m     10\u001b[0m \u001b[0mxytext\u001b[0m \u001b[0;34m=\u001b[0m \u001b[0;34m(\u001b[0m\u001b[0mxy\u001b[0m\u001b[0;34m[\u001b[0m\u001b[0;36m0\u001b[0m\u001b[0;34m]\u001b[0m \u001b[0;34m+\u001b[0m \u001b[0;36m.01\u001b[0m\u001b[0;34m,\u001b[0m \u001b[0mxy\u001b[0m\u001b[0;34m[\u001b[0m\u001b[0;36m1\u001b[0m\u001b[0;34m]\u001b[0m \u001b[0;34m+\u001b[0m \u001b[0;36m.1\u001b[0m\u001b[0;34m)\u001b[0m\u001b[0;34m\u001b[0m\u001b[0m\n",
      "\u001b[0;31mIndexError\u001b[0m: index 22 is out of bounds for axis 0 with size 1"
     ]
    },
    {
     "data": {
      "image/png": "[encoded data removed]",
      "text/plain": [
       "<matplotlib.figure.Figure at 0x7f1a9a253650>"
      ]
     },
     "metadata": {},
     "output_type": "display_data"
    }
   ],
   "source": [
    "# 找到最小值\n",
    "min_idx = ridge.cv_values_.mean(axis=0).argmin()\n",
    "alphas_to_test[min_idx]\n",
    "\n",
    "f, ax = plt.subplots(figsize=(7, 5))\n",
    "ax.set_title(r'Various values of $\\alpha$')\n",
    "\n",
    "tmp = ridge.cv_values_.mean(axis=0)[min_idx]\n",
    "xy = (alphas_to_test[min_idx], tmp)\n",
    "xytext = (xy[0] + .01, xy[1] + .1)\n",
    "\n",
    "ax.annotate(r'Chosen $\\alpha$', xy = xy, xytext=xytext,\n",
    "           arrowprops=dict(facecolor='black', shrink=0, width=0))\n",
    "ax.plot(alphas_to_test, ridge.cv_values_.mean(axis=0))"
   ]
  },
  {
   "cell_type": "markdown",
   "metadata": {},
   "source": [
    "###  模型评价"
   ]
  },
  {
   "cell_type": "markdown",
   "metadata": {},
   "source": [
    "### R2性能评价"
   ]
  },
  {
   "cell_type": "code",
   "execution_count": 115,
   "metadata": {},
   "outputs": [
    {
     "name": "stdout",
     "output_type": "stream",
     "text": [
      "('the r2 score of RidgeCV on test is ', 0.52075123619346575)\n",
      "('the r2 score of RidgeCV on train is ', 0.57220744882136954)\n"
     ]
    }
   ],
   "source": [
    "# 评估，使用r2_score评价模型在测试集和训练集上的性能\n",
    "print (('the r2 score of RidgeCV on test is '), r2_score(y_test, y_test_pred_rg))\n",
    "print (('the r2 score of RidgeCV on train is '), r2_score(y_train, y_train_pred_rg))"
   ]
  },
  {
   "cell_type": "markdown",
   "metadata": {},
   "source": [
    "### cross_val_score　评价"
   ]
  },
  {
   "cell_type": "code",
   "execution_count": 116,
   "metadata": {},
   "outputs": [
    {
     "name": "stdout",
     "output_type": "stream",
     "text": [
      "[ 0.49671764  0.55248849  0.43834474  0.54339071]\n"
     ]
    }
   ],
   "source": [
    "from sklearn.model_selection import cross_val_score\n",
    "\n",
    "print cross_val_score(ridge, x_train, y_train, cv=4, n_jobs=2, pre_dispatch='2*n_jobs')"
   ]
  },
  {
   "cell_type": "code",
   "execution_count": 117,
   "metadata": {},
   "outputs": [
    {
     "data": {
      "text/plain": [
       "<matplotlib.legend.Legend at 0x7f1a9ae4f790>"
      ]
     },
     "execution_count": 117,
     "metadata": {},
     "output_type": "execute_result"
    },
    {
     "data": {
      "image/png": "[encoded data removed]",
      "text/plain": [
       "<matplotlib.figure.Figure at 0x7f1a9a6cde10>"
      ]
     },
     "metadata": {},
     "output_type": "display_data"
    }
   ],
   "source": [
    "# 在测试集上观测预测残差分布\n",
    "f, ax = plt.subplots(figsize=(7, 5))\n",
    "f.tight_layout()\n",
    "ax.hist(y_test - y_test_pred_rg, bins=40, label=\"redgeCV\", color='red', alpha=.5)\n",
    "ax.set_title(\"Histogram of RedgeCV\")\n",
    "ax.legend(loc='best')"
   ]
  },
  {
   "cell_type": "markdown",
   "metadata": {},
   "source": [
    "## Q3. 请问助教残差分布说明了什么问题？？"
   ]
  },
  {
   "cell_type": "markdown",
   "metadata": {},
   "source": [
    "## 5. Lasso 模型"
   ]
  },
  {
   "cell_type": "code",
   "execution_count": 91,
   "metadata": {
    "collapsed": true
   },
   "outputs": [],
   "source": [
    "from sklearn.linear_model import LassoCV\n",
    "#设置超参数范围\n",
    "alphas = [0.01, 0.1, 1, 10, 100, 1000, 10000]\n",
    "lasso = LassoCV(alphas=alphas)\n"
   ]
  },
  {
   "cell_type": "code",
   "execution_count": 92,
   "metadata": {},
   "outputs": [
    {
     "name": "stderr",
     "output_type": "stream",
     "text": [
      "/home/wyb/anaconda2/envs/python3/lib/python2.7/site-packages/sklearn/linear_model/coordinate_descent.py:1082: DataConversionWarning: A column-vector y was passed when a 1d array was expected. Please change the shape of y to (n_samples, ), for example using ravel().\n",
      "  y = column_or_1d(y, warn=True)\n"
     ]
    },
    {
     "data": {
      "text/plain": [
       "LassoCV(alphas=[0.01, 0.1, 1, 10, 100, 1000, 10000], copy_X=True, cv=None,\n",
       "    eps=0.001, fit_intercept=True, max_iter=1000, n_alphas=100, n_jobs=1,\n",
       "    normalize=False, positive=False, precompute='auto', random_state=None,\n",
       "    selection='cyclic', tol=0.0001, verbose=False)"
      ]
     },
     "execution_count": 92,
     "metadata": {},
     "output_type": "execute_result"
    }
   ],
   "source": [
    "lasso.fit(x_train, y_train)"
   ]
  },
  {
   "cell_type": "code",
   "execution_count": 124,
   "metadata": {},
   "outputs": [
    {
     "name": "stdout",
     "output_type": "stream",
     "text": [
      "('the best alpha ', 0.01)\n"
     ]
    }
   ],
   "source": [
    "y_train_pred_lso = lasso.predict(x_train)\n",
    "y_test_pred_lso = lasso.predict(x_test)\n",
    "print (('the best alpha '), lasso.alpha_)"
   ]
  },
  {
   "cell_type": "markdown",
   "metadata": {},
   "source": [
    "## 超参数调优"
   ]
  },
  {
   "cell_type": "code",
   "execution_count": 120,
   "metadata": {},
   "outputs": [
    {
     "name": "stdout",
     "output_type": "stream",
     "text": [
      "('the best alpha ', 0.01)\n"
     ]
    }
   ],
   "source": [
    "alphas_to_test_laso = np.linspace(0.001, 0.9)\n",
    "lasso.set_params(alphas=alphas_to_test)\n",
    "# rcv = lasso(alphas=alphas_to_test, store_cv_values=True)\n",
    "lasso.fit(x_train, y_train)\n",
    "\n",
    "print (('the best alpha '), lasso.alpha_)"
   ]
  },
  {
   "cell_type": "markdown",
   "metadata": {},
   "source": [
    "## Q4.请问怎么看下面这些权重有什么意义？\n",
    "\n",
    "### 查看权重"
   ]
  },
  {
   "cell_type": "code",
   "execution_count": 129,
   "metadata": {},
   "outputs": [
    {
     "data": {
      "text/plain": [
       "array([-0.54223969,  0.        , -0.02316833,  0.21958966, -0.02480449,\n",
       "       -0.        ,  0.04316023, -0.        ,  0.12185151,  0.        ,\n",
       "       -0.11320373, -0.        ,  0.2432635 ,  0.12835253, -0.        ,\n",
       "       -0.        ,  0.        , -0.        , -0.0626032 , -0.        ,\n",
       "       -0.        , -0.        , -0.        ,  0.0284376 ,  0.01094155,\n",
       "       -0.        ,  0.        ,  2.53963892,  0.        , -1.17384727, -0.        ])"
      ]
     },
     "execution_count": 129,
     "metadata": {},
     "output_type": "execute_result"
    }
   ],
   "source": [
    "lasso.coef_"
   ]
  },
  {
   "cell_type": "code",
   "execution_count": 123,
   "metadata": {},
   "outputs": [
    {
     "data": {
      "text/plain": [
       "<matplotlib.legend.Legend at 0x7f1a84b70a90>"
      ]
     },
     "execution_count": 123,
     "metadata": {},
     "output_type": "execute_result"
    },
    {
     "data": {
      "image/png": "[encoded data removed]",
      "text/plain": [
       "<matplotlib.figure.Figure at 0x7f1a87e31510>"
      ]
     },
     "metadata": {},
     "output_type": "display_data"
    }
   ],
   "source": [
    "# 在测试集上观测预测残差分布\n",
    "f, ax = plt.subplots(figsize=(7, 5))\n",
    "f.tight_layout()\n",
    "ax.hist(y_test - y_test_pred_lso, bins=30, label=\"Lasso\")\n",
    "ax.set_title(\"Histogram of Lasso\")\n",
    "ax.legend(loc='best')"
   ]
  },
  {
   "cell_type": "markdown",
   "metadata": {},
   "source": [
    "### 模型评价"
   ]
  },
  {
   "cell_type": "markdown",
   "metadata": {},
   "source": [
    "### R2评价"
   ]
  },
  {
   "cell_type": "code",
   "execution_count": 125,
   "metadata": {},
   "outputs": [
    {
     "name": "stdout",
     "output_type": "stream",
     "text": [
      "('the r2 score of Lasso on train is ', 0.51687406537545533)\n",
      "('the r2 score of Lasso on test is ', 0.49731758721233366)\n"
     ]
    }
   ],
   "source": [
    "# 评估，使用r2_score评价模型在测试集和训练集上的性能\n",
    "print (('the r2 score of Lasso on train is '), r2_score(y_train, y_train_pred_lso))\n",
    "print (('the r2 score of Lasso on test is '), r2_score(y_test, y_test_pred_lso))"
   ]
  },
  {
   "cell_type": "markdown",
   "metadata": {},
   "source": [
    "### cross_val_score　评价"
   ]
  },
  {
   "cell_type": "code",
   "execution_count": 126,
   "metadata": {},
   "outputs": [
    {
     "name": "stdout",
     "output_type": "stream",
     "text": [
      "[ 0.44114216  0.5150312   0.39660159  0.53475714]\n"
     ]
    }
   ],
   "source": [
    "from sklearn.model_selection import cross_val_score\n",
    "\n",
    "print cross_val_score(lasso, x_train, y_train, cv=4, n_jobs=2, pre_dispatch='2*n_jobs')"
   ]
  },
  {
   "cell_type": "markdown",
   "metadata": {},
   "source": [
    "## 对比OLS/岭回归和lasso模型评价，OLS得分更高些,是因为简单模型更好用么？"
   ]
  }
 ],
 "metadata": {
  "kernelspec": {
   "display_name": "Python 2",
   "language": "python",
   "name": "python2"
  },
  "language_info": {
   "codemirror_mode": {
    "name": "ipython",
    "version": 2
   },
   "file_extension": ".py",
   "mimetype": "text/x-python",
   "name": "python",
   "nbconvert_exporter": "python",
   "pygments_lexer": "ipython2",
   "version": "2.7.15"
  }
 },
 "nbformat": 4,
 "nbformat_minor": 1
}
