{
 "cells": [
  {
   "cell_type": "markdown",
   "metadata": {
    "collapsed": true
   },
   "source": [
    "## 进阶作业：共享单车用户数预测"
   ]
  },
  {
   "cell_type": "markdown",
   "metadata": {},
   "source": [
    "### 作业要求:\n",
    "利用美国某共享单车公司2011/2012年数据，训练和测试一个模型，并对模型的性能和预测能力进行测试。\n",
    "\n",
    "### 批改标准\n",
    "3. 对全体数据，随机选择其中80%做训练数据，剩下20%为测试数据，评价指标为RMSE。（10分） \n",
    "4. 用训练数据训练最小二乘线性回归模型（20分）、岭回归模型、Lasso模型，其中岭回归模型（30分）和Lasso模型（30分），注意岭回归模型和Lasso模型的正则超参数调优。 \n",
    "5. 比较用上述三种模型得到的各特征的系数，以及各模型在测试集上的性能。并简单说明原因.\n",
    "\n",
    "### 实现思路\n",
    "特征工程：\n",
    "\n",
    "1. 数据探索\n",
    "\n",
    " 使用pandas查看数据规模、特征维数、特征涵义、特征数据类型；\n",
    " 查看特征描述统计量、空值数量；\n",
    " 用直方图、箱体图、提琴图等查看单变量大致分布、是否有噪声数据；\n",
    " 用相关矩阵热力图、scatter/hue查看两特征之间相关性；\n",
    "\n",
    "2. 数据预处理\n",
    "    \n",
    "    删除冗余、噪音数据；\n",
    "    处理缺失值；\n",
    "    数据分离；\n",
    "    离散型特征编码；\n",
    "    数值特征标准化；\n",
    "    \n",
    "3. 确定模型类型\n",
    "  \n",
    "4. 评价性能"
   ]
  },
  {
   "cell_type": "markdown",
   "metadata": {},
   "source": [
    "## 1.导入必要工具包"
   ]
  },
  {
   "cell_type": "code",
   "execution_count": 61,
   "metadata": {
    "collapsed": true
   },
   "outputs": [],
   "source": [
    "import numpy as np #矩阵处理\n",
    "import pandas as pd #数据处理\n",
    "\n",
    "from sklearn.metrics import r2_score # 评价回归预测模型的性能\n",
    "\n",
    "from sklearn.model_selection import train_test_split\n",
    "\n",
    "import matplotlib.pyplot as plt #画图\n",
    "import seaborn as sns\n",
    "\n",
    "from sklearn.preprocessing import MinMaxScaler,StandardScaler,OneHotEncoder # 数据标准化\n",
    "\n",
    "from scipy.sparse import hstack\n",
    "\n",
    "# 图形出现在Notebook里而不是新窗口\n",
    "%matplotlib inline\n"
   ]
  },
  {
   "cell_type": "markdown",
   "metadata": {},
   "source": [
    "## 2.数据探索\n",
    "见文件　CBdata.ipynb"
   ]
  },
  {
   "cell_type": "code",
   "execution_count": 62,
   "metadata": {
    "collapsed": true
   },
   "outputs": [],
   "source": [
    "### 2.1 读取数据"
   ]
  },
  {
   "cell_type": "code",
   "execution_count": 63,
   "metadata": {},
   "outputs": [
    {
     "data": {
      "text/plain": [
       "(731, 16)"
      ]
     },
     "execution_count": 63,
     "metadata": {},
     "output_type": "execute_result"
    }
   ],
   "source": [
    "# dapath = '/media/wyb/work/AI-learning/ai/week-00/ML-Capital-Bikeshare/dataset/'  # 数据文件路径\n",
    "\n",
    "cb = pd.read_csv('../dataset/day.csv')  # 以csv格式读取数据\n",
    "\n",
    "# print \"cb　data type is %s\" % cb.dtypes  # 输出各字段数据类型\n",
    "\n",
    "cb.head()  # 打印文件头部内容，查看各字段前五列数据值\n",
    "# print cb.tail()  # 打印数据尾部五个数据值\n",
    "\n",
    "\n",
    "# 读取样本数目、特征维数每个特征的类型、空值样本数目、数据类型\n",
    "cb.shape\n",
    "\n"
   ]
  },
  {
   "cell_type": "markdown",
   "metadata": {},
   "source": [
    "## 2.2 数据准备"
   ]
  },
  {
   "cell_type": "code",
   "execution_count": 64,
   "metadata": {
    "scrolled": true
   },
   "outputs": [],
   "source": [
    "y = cb['cnt']\n",
    "\n",
    "X = cb.drop(['dteday','instant','casual','registered','cnt'],axis=1)\n",
    "\n",
    "# 训练数据与测试数据8/2分\n",
    "X_train, X_test, y_train, y_test = train_test_split(X, y, test_size=0.2, random_state=42)"
   ]
  },
  {
   "cell_type": "code",
   "execution_count": 65,
   "metadata": {
    "collapsed": true
   },
   "outputs": [],
   "source": [
    "# 从训练数据中获取输入特征X和输出特征Y\n",
    "#y_train = y_train['cnt'].values\n",
    "\n",
    "#　删除暂时无关特征\n",
    "# X_train = X_train.drop(['dteday','instant','casual','registered'],axis=1)\n",
    "\n",
    "# X_test = X_test.drop(['dteday','instant','casual','registered'],axis=1)\n",
    "\n",
    "# columns = X_test.columns"
   ]
  },
  {
   "cell_type": "markdown",
   "metadata": {},
   "source": [
    "## 2.3 数据预处理/特征工程"
   ]
  },
  {
   "cell_type": "markdown",
   "metadata": {},
   "source": [
    "### 2.3.1　数据预处理"
   ]
  },
  {
   "cell_type": "code",
   "execution_count": 67,
   "metadata": {},
   "outputs": [],
   "source": [
    "OneHotEnc = OneHotEncoder()\n",
    "mn_x = MinMaxScaler()\n",
    "\n",
    "# 对训练数据中输入特征x中类别变量进行OneHotEncoder处理\n",
    "x_train_cat = OneHotEnc.fit_transform(X_train[['season','mnth','holiday','weekday','workingday']])\n",
    "\n",
    "#　数据值变量继续预处理\n",
    "x_train_num = mn_x.fit_transform(X_train[['temp','atemp','hum','windspeed']])\n",
    "\n",
    "# 将变换后的变量合到一起\n",
    "x_train = hstack((x_train_cat, x_train_num))\n",
    "\n",
    "# y_train = train_data['cnt'].values\n",
    "\n"
   ]
  },
  {
   "cell_type": "code",
   "execution_count": 68,
   "metadata": {
    "collapsed": true
   },
   "outputs": [],
   "source": [
    "# 对测试数据预处理\n",
    "x_test_cat = OneHotEnc.transform(X_test[['season','mnth','holiday','weekday','workingday']])\n",
    "x_test_num = mn_x.transform(X_test[['temp','atemp','hum','windspeed']])\n",
    "x_test = hstack((x_test_cat, x_test_num))\n",
    "\n",
    "# y_test = test_data['cnt'].values"
   ]
  },
  {
   "cell_type": "markdown",
   "metadata": {},
   "source": [
    "### 3.确定模型类型\n",
    "#### 3.1 尝试缺省参数的最小二乘线性回归"
   ]
  },
  {
   "cell_type": "code",
   "execution_count": 95,
   "metadata": {},
   "outputs": [
    {
     "data": {
      "text/plain": [
       "array([ -8.39797300e+02,   1.08893550e+02,  -2.34240817e+02,\n",
       "         7.10602147e+02,   2.94388320e+02,   2.96843135e+02,\n",
       "         5.56606111e+02,  -9.82832672e+01,   1.19563272e+02,\n",
       "        -5.32088380e+02,  -1.13626884e+03,  -5.70787252e+02,\n",
       "         5.18199501e+02,   2.61578610e+02,  -1.02236296e+02,\n",
       "         1.37942667e+02,   1.03477415e+02,  -3.58019835e+02,\n",
       "        -1.39289919e+02,  -5.13611737e-01,  -1.49558561e+02,\n",
       "        -1.31250092e+02,  -1.87377800e+02,   7.74289686e+01,\n",
       "         2.76018596e+02,  -2.21291159e+02,  -3.32512616e+01,\n",
       "         5.74166319e+03,   5.07569110e+02,  -4.04187663e+03,\n",
       "        -1.59773811e+03])"
      ]
     },
     "execution_count": 95,
     "metadata": {},
     "output_type": "execute_result"
    }
   ],
   "source": [
    "#　线性回归\n",
    "from sklearn.linear_model import LinearRegression\n",
    "\n",
    "#使用默认配置初始化\n",
    "lr = LinearRegression(copy_X=True)\n",
    "\n",
    "# 训练模型参数\n",
    "lr.fit(x_train, y_train)\n",
    "\n",
    "#分别在训练集与测试集预测\n",
    "y_train_pred_lr = lr.predict(x_train)\n",
    "y_test_pred_lr = lr.predict(x_test)\n",
    "\n",
    "# 查看各特征权重，权重绝对值大小为该特征重要程度\n",
    "# fs = pd.DataFrame({'columns':list((lr.coef_.T)), \"coef\":list((lr.coef_.T))})\n",
    "# fs.sort_values(by=['coef'], ascending=False)\n",
    "\n",
    "# y_test_pred_lr\n",
    "\n",
    "lr.coef_"
   ]
  },
  {
   "cell_type": "markdown",
   "metadata": {},
   "source": [
    "#### 3.1.1 模型评价"
   ]
  },
  {
   "cell_type": "code",
   "execution_count": 96,
   "metadata": {},
   "outputs": [
    {
     "name": "stdout",
     "output_type": "stream",
     "text": [
      "The RMSE of LinearRegression on test is 1957408.96184\n",
      "The r2 score of LinearRegression on train is 1561794.26933\n"
     ]
    }
   ],
   "source": [
    "# 使用RMSE评价\n",
    "from sklearn.metrics import mean_squared_error\n",
    "# 测试集\n",
    "print 'The RMSE of LinearRegression on test is',mean_squared_error(y_test, y_test_pred_lr)\n",
    "\n",
    "# 训练集\n",
    "print 'The RMSE of LinearRegression on train is',mean_squared_error(y_train, y_train_pred_lr)"
   ]
  },
  {
   "cell_type": "markdown",
   "metadata": {},
   "source": [
    "## 为什么RMSE值这么大？？"
   ]
  },
  {
   "cell_type": "code",
   "execution_count": 71,
   "metadata": {},
   "outputs": [
    {
     "name": "stdout",
     "output_type": "stream",
     "text": [
      "The r2 score of LinearRegression on test is 0.511853760044\n",
      "The r2 score of LinearRegression on train is 0.573943964507\n"
     ]
    }
   ],
   "source": [
    "# 使用r2_score评价模型在测试及和训练集上的性能，并输出评估结果\n",
    "# 测试集\n",
    "print 'The r2 score of LinearRegression on test is',r2_score(y_test, y_test_pred_lr)\n",
    "\n",
    "# 训练集\n",
    "print 'The r2 score of LinearRegression on train is',r2_score(y_train, y_train_pred_lr)"
   ]
  },
  {
   "cell_type": "code",
   "execution_count": 72,
   "metadata": {},
   "outputs": [
    {
     "data": {
      "text/plain": [
       "<matplotlib.legend.Legend at 0x7f20adba4890>"
      ]
     },
     "execution_count": 72,
     "metadata": {},
     "output_type": "execute_result"
    },
    {
     "data": {
      "image/png": "[encoded data removed]",
      "text/plain": [
       "<matplotlib.figure.Figure at 0x7f20adba4990>"
      ]
     },
     "metadata": {},
     "output_type": "display_data"
    }
   ],
   "source": [
    "# 在训练集上观测预测残差分布\n",
    "f, ax = plt.subplots(figsize=(7, 5))\n",
    "f.tight_layout()\n",
    "ax.hist(y_train - y_train_pred_lr, bins=40, label=\"Residuals Linear\", color='red', alpha=.5)\n",
    "ax.set_title(\"Histogram of Residuals\")\n",
    "ax.legend(loc='best')\n"
   ]
  },
  {
   "cell_type": "markdown",
   "metadata": {},
   "source": [
    "### 3.2 Huber损失回归模型"
   ]
  },
  {
   "cell_type": "code",
   "execution_count": 73,
   "metadata": {
    "collapsed": true
   },
   "outputs": [],
   "source": [
    "from sklearn.linear_model import HuberRegressor\n",
    "huber = HuberRegressor()\n",
    "huber.fit(x_train, y_train)\n",
    "\n",
    "# 分别在训练集与测试集上预测 \n",
    "y_train_pred_hb = huber.predict(x_train)\n",
    "y_test_pred_hb = huber.predict(x_test)\n"
   ]
  },
  {
   "cell_type": "markdown",
   "metadata": {},
   "source": [
    "### 3.2.1 模型评价"
   ]
  },
  {
   "cell_type": "code",
   "execution_count": 74,
   "metadata": {},
   "outputs": [
    {
     "name": "stdout",
     "output_type": "stream",
     "text": [
      "The r2 score of HuberRegression on test is 0.506130465299\n",
      "The r2 score of HuberRegression on train is 0.571341411898\n"
     ]
    }
   ],
   "source": [
    "# 使用r2_score评价模型在测试及和训练集上的性能，并输出评估结果\n",
    "# 测试集\n",
    "print 'The r2 score of HuberRegression on test is',r2_score(y_test, y_test_pred_hb)\n",
    "\n",
    "# 训练集\n",
    "print 'The r2 score of HuberRegression on train is',r2_score(y_train, y_train_pred_hb)"
   ]
  },
  {
   "cell_type": "markdown",
   "metadata": {},
   "source": [
    "## 4.岭回归，对正则参数lambda (scikit learn 中为alpha)调优"
   ]
  },
  {
   "cell_type": "code",
   "execution_count": 75,
   "metadata": {
    "collapsed": true
   },
   "outputs": [],
   "source": [
    "from sklearn.linear_model import RidgeCV\n",
    "\n",
    "#设置超参数范围\n",
    "alphas = [0.00001, 0.0001, 0.001, 0.01, 0.1, 1, 10, 100, 1000, 10000]\n",
    "\n",
    "#生成一个RidgeCV实例\n",
    "ridge = RidgeCV(alphas = alphas, )"
   ]
  },
  {
   "cell_type": "code",
   "execution_count": 76,
   "metadata": {
    "scrolled": true
   },
   "outputs": [
    {
     "data": {
      "text/plain": [
       "RidgeCV(alphas=[1e-05, 0.0001, 0.001, 0.01, 0.1, 1, 10, 100, 1000, 10000],\n",
       "    cv=None, fit_intercept=True, gcv_mode=None, normalize=False,\n",
       "    scoring=None, store_cv_values=False)"
      ]
     },
     "execution_count": 76,
     "metadata": {},
     "output_type": "execute_result"
    }
   ],
   "source": [
    "# 模型训练\n",
    "ridge.fit(x_train, y_train)"
   ]
  },
  {
   "cell_type": "code",
   "execution_count": 77,
   "metadata": {},
   "outputs": [
    {
     "name": "stdout",
     "output_type": "stream",
     "text": [
      "('the best alpha ', 1.0)\n"
     ]
    }
   ],
   "source": [
    "# 预测\n",
    "y_test_pred_rg = ridge.predict(x_test)\n",
    "y_train_pred_rg = ridge.predict(x_train)\n",
    "print (('the best alpha '), ridge.alpha_)"
   ]
  },
  {
   "cell_type": "markdown",
   "metadata": {},
   "source": [
    "再次优化"
   ]
  },
  {
   "cell_type": "code",
   "execution_count": 78,
   "metadata": {},
   "outputs": [
    {
     "name": "stdout",
     "output_type": "stream",
     "text": [
      "('the best alpha ', 0.90000000000000002)\n"
     ]
    }
   ],
   "source": [
    "ridge = RidgeCV(alphas=np.array([.1, .5, .9, 1.3, 1.7]))\n",
    "ridge.fit(x_train, y_train)\n",
    "print (('the best alpha '), ridge.alpha_)"
   ]
  },
  {
   "cell_type": "markdown",
   "metadata": {},
   "source": [
    "可视化交叉验证过程"
   ]
  },
  {
   "cell_type": "code",
   "execution_count": 79,
   "metadata": {},
   "outputs": [
    {
     "data": {
      "text/plain": [
       "RidgeCV(alphas=array([ 0.01   ,  0.02816,  0.04633,  0.06449,  0.08265,  0.10082,\n",
       "        0.11898,  0.13714,  0.15531,  0.17347,  0.19163,  0.2098 ,\n",
       "        0.22796,  0.24612,  0.26429,  0.28245,  0.30061,  0.31878,\n",
       "        0.33694,  0.3551 ,  0.37327,  0.39143,  0.40959,  0.42776,\n",
       "        0.44592,  0.46408...5469,\n",
       "        0.77286,  0.79102,  0.80918,  0.82735,  0.84551,  0.86367,\n",
       "        0.88184,  0.9    ]),\n",
       "    cv=None, fit_intercept=True, gcv_mode=None, normalize=False,\n",
       "    scoring=None, store_cv_values=True)"
      ]
     },
     "execution_count": 79,
     "metadata": {},
     "output_type": "execute_result"
    }
   ],
   "source": [
    "# 提高精确度\n",
    "alphas_to_test = np.linspace(0.01, 0.9)\n",
    "rcv = RidgeCV(alphas=alphas_to_test, store_cv_values=True)\n",
    "rcv.fit(x_train, y_train)"
   ]
  },
  {
   "cell_type": "code",
   "execution_count": 80,
   "metadata": {},
   "outputs": [
    {
     "data": {
      "text/plain": [
       "(584, 50)"
      ]
     },
     "execution_count": 80,
     "metadata": {},
     "output_type": "execute_result"
    }
   ],
   "source": [
    "rcv.cv_values_.shape"
   ]
  },
  {
   "cell_type": "code",
   "execution_count": 81,
   "metadata": {},
   "outputs": [
    {
     "data": {
      "text/plain": [
       "0.73653061224489791"
      ]
     },
     "execution_count": 81,
     "metadata": {},
     "output_type": "execute_result"
    }
   ],
   "source": [
    "# 找到最小值\n",
    "min_idx = rcv.cv_values_.mean(axis=0).argmin()\n",
    "alphas_to_test[min_idx]"
   ]
  },
  {
   "cell_type": "code",
   "execution_count": 82,
   "metadata": {},
   "outputs": [
    {
     "data": {
      "text/plain": [
       "[<matplotlib.lines.Line2D at 0x7f20ada76210>]"
      ]
     },
     "execution_count": 82,
     "metadata": {},
     "output_type": "execute_result"
    },
    {
     "data": {
      "image/png": "[encoded data removed]",
      "text/plain": [
       "<matplotlib.figure.Figure at 0x7f20ada76890>"
      ]
     },
     "metadata": {},
     "output_type": "display_data"
    }
   ],
   "source": [
    "f, ax = plt.subplots(figsize=(7, 5))\n",
    "ax.set_title(r'Various values of $\\alpha$')\n",
    "\n",
    "xy = (alphas_to_test[min_idx], rcv.cv_values_.mean(axis=0)[min_idx])\n",
    "xytext = (xy[0] + .01, xy[1] + .1)\n",
    "\n",
    "ax.annotate(r'Chosen $\\alpha$', xy = xy, xytext=xytext,\n",
    "           arrowprops=dict(facecolor='black', shrink=0, width=0))\n",
    "ax.plot(alphas_to_test, rcv.cv_values_.mean(axis=0))"
   ]
  },
  {
   "cell_type": "code",
   "execution_count": 89,
   "metadata": {},
   "outputs": [
    {
     "name": "stdout",
     "output_type": "stream",
     "text": [
      "('the best alpha ', 0.73653061224489791)\n"
     ]
    }
   ],
   "source": [
    "# 预测\n",
    "y_test_pred_rcv = rcv.predict(x_test)\n",
    "y_train_pred_rcv = rcv.predict(x_train)\n",
    "print (('the best alpha '), rcv.alpha_)"
   ]
  },
  {
   "cell_type": "code",
   "execution_count": 90,
   "metadata": {},
   "outputs": [
    {
     "name": "stdout",
     "output_type": "stream",
     "text": [
      "('the r2 score of RidgeCV on test is ', 0.51688412289876284)\n",
      "('the r2 score of RidgeCV on train is ', 0.57193343171599187)\n"
     ]
    }
   ],
   "source": [
    "# 评估，使用r2_score评价模型在测试集和训练集上的性能\n",
    "print (('the r2 score of RidgeCV on test is '), r2_score(y_test, y_test_pred_rcv))\n",
    "print (('the r2 score of RidgeCV on train is '), r2_score(y_train, y_train_pred_rcv))"
   ]
  },
  {
   "cell_type": "code",
   "execution_count": 91,
   "metadata": {},
   "outputs": [
    {
     "data": {
      "text/plain": [
       "<matplotlib.legend.Legend at 0x7f20ad6b5490>"
      ]
     },
     "execution_count": 91,
     "metadata": {},
     "output_type": "execute_result"
    },
    {
     "data": {
      "image/png": "[encoded data removed]",
      "text/plain": [
       "<matplotlib.figure.Figure at 0x7f20ad6b5790>"
      ]
     },
     "metadata": {},
     "output_type": "display_data"
    }
   ],
   "source": [
    "# 在测试集上观测预测残差分布\n",
    "f, ax = plt.subplots(figsize=(7, 5))\n",
    "f.tight_layout()\n",
    "ax.hist(y_test - y_test_pred_rcv, bins=40, label=\"redgeCV\", color='red', alpha=.5)\n",
    "ax.set_title(\"Histogram of RedgeCV\")\n",
    "ax.legend(loc='best')"
   ]
  },
  {
   "cell_type": "markdown",
   "metadata": {},
   "source": [
    "## 5. Lasso 模型"
   ]
  },
  {
   "cell_type": "code",
   "execution_count": 92,
   "metadata": {
    "collapsed": true
   },
   "outputs": [],
   "source": [
    "from sklearn.linear_model import LassoCV\n",
    "#设置超参数范围\n",
    "alphas = [0.01, 0.1, 1, 10, 100, 1000, 10000]\n",
    "lasso = LassoCV(alphas=alphas)\n",
    "# lasso = LassoCV()"
   ]
  },
  {
   "cell_type": "code",
   "execution_count": 93,
   "metadata": {},
   "outputs": [
    {
     "data": {
      "text/plain": [
       "LassoCV(alphas=[0.01, 0.1, 1, 10, 100, 1000, 10000], copy_X=True, cv=None,\n",
       "    eps=0.001, fit_intercept=True, max_iter=1000, n_alphas=100, n_jobs=1,\n",
       "    normalize=False, positive=False, precompute='auto', random_state=None,\n",
       "    selection='cyclic', tol=0.0001, verbose=False)"
      ]
     },
     "execution_count": 93,
     "metadata": {},
     "output_type": "execute_result"
    }
   ],
   "source": [
    "lasso.fit(x_train, y_train)"
   ]
  },
  {
   "cell_type": "code",
   "execution_count": 94,
   "metadata": {},
   "outputs": [
    {
     "name": "stdout",
     "output_type": "stream",
     "text": [
      "('the r2 score of Lasso on train is ', 0.52780865379440434)\n",
      "('the best alpha ', 10.0)\n"
     ]
    }
   ],
   "source": [
    "y_test_pred_lso = lasso.predict(x_test)\n",
    "print (('the r2 score of Lasso on train is '), r2_score(y_test, y_test_pred_lso))\n",
    "print (('the best alpha '), lasso.alpha_)"
   ]
  },
  {
   "cell_type": "markdown",
   "metadata": {},
   "source": [
    "## 超参数调优"
   ]
  },
  {
   "cell_type": "code",
   "execution_count": 99,
   "metadata": {},
   "outputs": [
    {
     "name": "stdout",
     "output_type": "stream",
     "text": [
      "('the best alpha ', 10.0)\n"
     ]
    }
   ],
   "source": [
    "lcv = LassoCV(alphas=np.array([9., 10., 11.]))\n",
    "lcv.fit(x_train, y_train)\n",
    "print (('the best alpha '), lcv.alpha_)"
   ]
  },
  {
   "cell_type": "code",
   "execution_count": 88,
   "metadata": {},
   "outputs": [
    {
     "data": {
      "text/plain": [
       "<matplotlib.legend.Legend at 0x7f20adc49190>"
      ]
     },
     "execution_count": 88,
     "metadata": {},
     "output_type": "execute_result"
    },
    {
     "data": {
      "image/png": "[encoded data removed]",
      "text/plain": [
       "<matplotlib.figure.Figure at 0x7f20adc49290>"
      ]
     },
     "metadata": {},
     "output_type": "display_data"
    }
   ],
   "source": [
    "# 在测试集上观测预测残差分布\n",
    "f, ax = plt.subplots(figsize=(7, 5))\n",
    "f.tight_layout()\n",
    "ax.hist(y_test - y_test_pred_lso, bins=40, label=\"Lasso Linear\", color='red', alpha=.5)\n",
    "ax.set_title(\"Histogram of Lasso\")\n",
    "ax.legend(loc='best')"
   ]
  }
 ],
 "metadata": {
  "kernelspec": {
   "display_name": "Python 2",
   "language": "python",
   "name": "python2"
  },
  "language_info": {
   "codemirror_mode": {
    "name": "ipython",
    "version": 2
   },
   "file_extension": ".py",
   "mimetype": "text/x-python",
   "name": "python",
   "nbconvert_exporter": "python",
   "pygments_lexer": "ipython2",
   "version": "2.7.11"
  }
 },
 "nbformat": 4,
 "nbformat_minor": 1
}
