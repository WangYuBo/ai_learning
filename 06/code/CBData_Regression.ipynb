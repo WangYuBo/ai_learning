{
 "cells": [
  {
   "cell_type": "markdown",
   "metadata": {
    "collapsed": true
   },
   "source": [
    "## 共享单车用户数预测"
   ]
  },
  {
   "cell_type": "markdown",
   "metadata": {},
   "source": [
    "利用美国某共享单车公司2011/2012年数据，训练和测试一个模型，并对模型的性能和预测能力进行测试。\n",
    "原始数据包括该公司收集到与共享单车业务相关的17个特征。\n",
    "原始数据已经经过处理，存储为csv格式。"
   ]
  },
  {
   "cell_type": "markdown",
   "metadata": {},
   "source": [
    "## 1.导入必要工具包"
   ]
  },
  {
   "cell_type": "code",
   "execution_count": 58,
   "metadata": {
    "collapsed": true
   },
   "outputs": [],
   "source": [
    "import numpy as np #矩阵处理\n",
    "import pandas as pd #数据处理\n",
    "\n",
    "from sklearn.metrics import r2_score # 评价回归预测模型的性能\n",
    "\n",
    "from sklearn.model_selection import train_test_split\n",
    "\n",
    "import matplotlib.pyplot as plt #画图\n",
    "import seaborn as sns\n",
    "\n",
    "from sklearn.preprocessing import MinMaxScaler,StandardScaler,OneHotEncoder # 数据标准化\n",
    "\n",
    "from scipy.sparse import hstack\n",
    "\n",
    "# 图形出现在Notebook里而不是新窗口\n",
    "%matplotlib inline\n"
   ]
  },
  {
   "cell_type": "markdown",
   "metadata": {},
   "source": [
    "## 2.数据探索\n",
    "见文件　CBdata.ipynb"
   ]
  },
  {
   "cell_type": "code",
   "execution_count": 59,
   "metadata": {
    "collapsed": true
   },
   "outputs": [],
   "source": [
    "### 2.1 读取数据"
   ]
  },
  {
   "cell_type": "code",
   "execution_count": 60,
   "metadata": {},
   "outputs": [
    {
     "data": {
      "text/html": [
       "<div>\n",
       "<style>\n",
       "    .dataframe thead tr:only-child th {\n",
       "        text-align: right;\n",
       "    }\n",
       "\n",
       "    .dataframe thead th {\n",
       "        text-align: left;\n",
       "    }\n",
       "\n",
       "    .dataframe tbody tr th {\n",
       "        vertical-align: top;\n",
       "    }\n",
       "</style>\n",
       "<table border=\"1\" class=\"dataframe\">\n",
       "  <thead>\n",
       "    <tr style=\"text-align: right;\">\n",
       "      <th></th>\n",
       "      <th>instant</th>\n",
       "      <th>dteday</th>\n",
       "      <th>season</th>\n",
       "      <th>yr</th>\n",
       "      <th>mnth</th>\n",
       "      <th>holiday</th>\n",
       "      <th>weekday</th>\n",
       "      <th>workingday</th>\n",
       "      <th>weathersit</th>\n",
       "      <th>temp</th>\n",
       "      <th>atemp</th>\n",
       "      <th>hum</th>\n",
       "      <th>windspeed</th>\n",
       "      <th>casual</th>\n",
       "      <th>registered</th>\n",
       "      <th>cnt</th>\n",
       "    </tr>\n",
       "  </thead>\n",
       "  <tbody>\n",
       "    <tr>\n",
       "      <th>0</th>\n",
       "      <td>1</td>\n",
       "      <td>2011-01-01</td>\n",
       "      <td>1</td>\n",
       "      <td>0</td>\n",
       "      <td>1</td>\n",
       "      <td>0</td>\n",
       "      <td>6</td>\n",
       "      <td>0</td>\n",
       "      <td>2</td>\n",
       "      <td>0.344167</td>\n",
       "      <td>0.363625</td>\n",
       "      <td>0.805833</td>\n",
       "      <td>0.160446</td>\n",
       "      <td>331</td>\n",
       "      <td>654</td>\n",
       "      <td>985</td>\n",
       "    </tr>\n",
       "    <tr>\n",
       "      <th>1</th>\n",
       "      <td>2</td>\n",
       "      <td>2011-01-02</td>\n",
       "      <td>1</td>\n",
       "      <td>0</td>\n",
       "      <td>1</td>\n",
       "      <td>0</td>\n",
       "      <td>0</td>\n",
       "      <td>0</td>\n",
       "      <td>2</td>\n",
       "      <td>0.363478</td>\n",
       "      <td>0.353739</td>\n",
       "      <td>0.696087</td>\n",
       "      <td>0.248539</td>\n",
       "      <td>131</td>\n",
       "      <td>670</td>\n",
       "      <td>801</td>\n",
       "    </tr>\n",
       "    <tr>\n",
       "      <th>2</th>\n",
       "      <td>3</td>\n",
       "      <td>2011-01-03</td>\n",
       "      <td>1</td>\n",
       "      <td>0</td>\n",
       "      <td>1</td>\n",
       "      <td>0</td>\n",
       "      <td>1</td>\n",
       "      <td>1</td>\n",
       "      <td>1</td>\n",
       "      <td>0.196364</td>\n",
       "      <td>0.189405</td>\n",
       "      <td>0.437273</td>\n",
       "      <td>0.248309</td>\n",
       "      <td>120</td>\n",
       "      <td>1229</td>\n",
       "      <td>1349</td>\n",
       "    </tr>\n",
       "    <tr>\n",
       "      <th>3</th>\n",
       "      <td>4</td>\n",
       "      <td>2011-01-04</td>\n",
       "      <td>1</td>\n",
       "      <td>0</td>\n",
       "      <td>1</td>\n",
       "      <td>0</td>\n",
       "      <td>2</td>\n",
       "      <td>1</td>\n",
       "      <td>1</td>\n",
       "      <td>0.200000</td>\n",
       "      <td>0.212122</td>\n",
       "      <td>0.590435</td>\n",
       "      <td>0.160296</td>\n",
       "      <td>108</td>\n",
       "      <td>1454</td>\n",
       "      <td>1562</td>\n",
       "    </tr>\n",
       "    <tr>\n",
       "      <th>4</th>\n",
       "      <td>5</td>\n",
       "      <td>2011-01-05</td>\n",
       "      <td>1</td>\n",
       "      <td>0</td>\n",
       "      <td>1</td>\n",
       "      <td>0</td>\n",
       "      <td>3</td>\n",
       "      <td>1</td>\n",
       "      <td>1</td>\n",
       "      <td>0.226957</td>\n",
       "      <td>0.229270</td>\n",
       "      <td>0.436957</td>\n",
       "      <td>0.186900</td>\n",
       "      <td>82</td>\n",
       "      <td>1518</td>\n",
       "      <td>1600</td>\n",
       "    </tr>\n",
       "  </tbody>\n",
       "</table>\n",
       "</div>"
      ],
      "text/plain": [
       "   instant      dteday  season  yr  mnth  holiday  weekday  workingday  \\\n",
       "0        1  2011-01-01       1   0     1        0        6           0   \n",
       "1        2  2011-01-02       1   0     1        0        0           0   \n",
       "2        3  2011-01-03       1   0     1        0        1           1   \n",
       "3        4  2011-01-04       1   0     1        0        2           1   \n",
       "4        5  2011-01-05       1   0     1        0        3           1   \n",
       "\n",
       "   weathersit      temp     atemp       hum  windspeed  casual  registered  \\\n",
       "0           2  0.344167  0.363625  0.805833   0.160446     331         654   \n",
       "1           2  0.363478  0.353739  0.696087   0.248539     131         670   \n",
       "2           1  0.196364  0.189405  0.437273   0.248309     120        1229   \n",
       "3           1  0.200000  0.212122  0.590435   0.160296     108        1454   \n",
       "4           1  0.226957  0.229270  0.436957   0.186900      82        1518   \n",
       "\n",
       "    cnt  \n",
       "0   985  \n",
       "1   801  \n",
       "2  1349  \n",
       "3  1562  \n",
       "4  1600  "
      ]
     },
     "execution_count": 60,
     "metadata": {},
     "output_type": "execute_result"
    }
   ],
   "source": [
    "# dapath = '/media/wyb/work/AI-learning/ai/week-00/ML-Capital-Bikeshare/dataset/'  # 数据文件路径\n",
    "\n",
    "cb = pd.read_csv('../dataset/day.csv')  # 以csv格式读取数据\n",
    "\n",
    "# print \"cb　data type is %s\" % cb.dtypes  # 输出各字段数据类型\n",
    "\n",
    "cb.head()  # 打印文件头部内容，查看各字段前五列数据值\n",
    "# print cb.tail()  # 打印数据尾部五个数据值\n",
    "\n",
    "\n",
    "# 读取样本数目、特征维数每个特征的类型、空值样本数目、数据类型\n",
    "# cb.shape\n",
    "\n"
   ]
  },
  {
   "cell_type": "markdown",
   "metadata": {},
   "source": [
    "## 2.2 数据准备"
   ]
  },
  {
   "cell_type": "code",
   "execution_count": 61,
   "metadata": {
    "scrolled": true
   },
   "outputs": [],
   "source": [
    "# 取出2011年数据作为训练数据,2012年作为测试数据\n",
    "# train_data = cb[cb['yr'] == 0]\n",
    "\n",
    "# test_data = cb[cb['yr'] ==1 ]\n",
    "y = cb['cnt']\n",
    "\n",
    "X = cb.drop(['dteday','instant','casual','registered','cnt'],axis=1)\n",
    "\n",
    "# 训练数据与测试数据8/2分\n",
    "X_train, X_test, y_train, y_test = train_test_split(X, y, test_size=0.2, random_state=42)"
   ]
  },
  {
   "cell_type": "code",
   "execution_count": 62,
   "metadata": {},
   "outputs": [],
   "source": [
    "# 从训练数据中获取输入特征X和输出特征Y\n",
    "#y_train = y_train['cnt'].values\n",
    "\n",
    "#　删除暂时无关特征\n",
    "# X_train = X_train.drop(['dteday','instant','casual','registered'],axis=1)\n",
    "\n",
    "# X_test = X_test.drop(['dteday','instant','casual','registered'],axis=1)\n",
    "\n",
    "# columns = X_test.columns"
   ]
  },
  {
   "cell_type": "markdown",
   "metadata": {},
   "source": [
    "## 2.3 数据预处理/特征工程"
   ]
  },
  {
   "cell_type": "markdown",
   "metadata": {},
   "source": [
    "### 2.3.1　数据预处理"
   ]
  },
  {
   "cell_type": "code",
   "execution_count": 63,
   "metadata": {
    "collapsed": true
   },
   "outputs": [],
   "source": [
    "OneHotEnc = OneHotEncoder()\n",
    "mn_x = MinMaxScaler()\n",
    "\n",
    "# 对训练数据中输入特征x中类别变量进行OneHotEncoder处理\n",
    "x_train_cat = OneHotEnc.fit_transform(X_train[['season','mnth','holiday','weekday','workingday']])\n",
    "\n",
    "#　数据值变量继续预处理\n",
    "x_train_num = mn_x.fit_transform(X_train[['temp','atemp','hum','windspeed']])\n",
    "\n",
    "# 将变换后的变量合到一起\n",
    "x_train = hstack((x_train_cat, x_train_num))\n",
    "\n",
    "# y_train = train_data['cnt'].values"
   ]
  },
  {
   "cell_type": "code",
   "execution_count": 64,
   "metadata": {},
   "outputs": [],
   "source": [
    "# 对测试数据预处理\n",
    "x_test_cat = OneHotEnc.transform(X_test[['season','mnth','holiday','weekday','workingday']])\n",
    "x_test_num = mn_x.transform(X_test[['temp','atemp','hum','windspeed']])\n",
    "x_test = hstack((x_test_cat, x_test_num))\n",
    "\n",
    "# y_test = test_data['cnt'].values"
   ]
  },
  {
   "cell_type": "markdown",
   "metadata": {},
   "source": [
    "### 3.确定模型类型\n",
    "#### 3.1 尝试缺省参数的线性回归"
   ]
  },
  {
   "cell_type": "code",
   "execution_count": 65,
   "metadata": {},
   "outputs": [
    {
     "name": "stdout",
     "output_type": "stream",
     "text": [
      "(147,)\n",
      "703    6606\n",
      "33     1550\n",
      "300    3747\n",
      "456    6041\n",
      "633    7538\n",
      "557    7264\n",
      "39     1605\n",
      "356    2209\n",
      "559    7499\n",
      "514    5743\n",
      "729    1796\n",
      "355    3068\n",
      "164    4891\n",
      "697    5260\n",
      "66     2133\n",
      "78     2471\n",
      "72     2046\n",
      "643    8156\n",
      "181    5362\n",
      "380    2298\n",
      "606    7697\n",
      "545    5463\n",
      "467    5409\n",
      "65     1872\n",
      "54     1807\n",
      "235    5130\n",
      "81     2121\n",
      "632    7436\n",
      "404    3830\n",
      "717    5557\n",
      "       ... \n",
      "369    3272\n",
      "196    5923\n",
      "375    2177\n",
      "468    6398\n",
      "319    1817\n",
      "76     3239\n",
      "2      1349\n",
      "331    3867\n",
      "690    5146\n",
      "199    4541\n",
      "314    3368\n",
      "60     2134\n",
      "568    7410\n",
      "302    3331\n",
      "306    3974\n",
      "683    5495\n",
      "711    5319\n",
      "234    5895\n",
      "90     2227\n",
      "473    4367\n",
      "469    7460\n",
      "69     1977\n",
      "212    4266\n",
      "131    4864\n",
      "44     1913\n",
      "70     2132\n",
      "192    4258\n",
      "328    2792\n",
      "165    5180\n",
      "135    3958\n",
      "Name: cnt, Length: 147, dtype: int64\n"
     ]
    }
   ],
   "source": [
    "#　线性回归\n",
    "from sklearn.linear_model import LinearRegression\n",
    "\n",
    "#使用默认配置初始化\n",
    "lr = LinearRegression()\n",
    "\n",
    "# 训练模型参数\n",
    "lr.fit(x_train, y_train)\n",
    "\n",
    "#分别在训练集与测试集预测\n",
    "y_train_pred_lr = lr.predict(x_train)\n",
    "y_test_pred_lr = lr.predict(x_test)\n",
    "\n",
    "print y_test_pred_lr.shape\n",
    "print y_test\n",
    "\n",
    "# 查看各特征权重，权重绝对值大小为该特征重要程度\n",
    "# fs = pd.DataFrame({'columns':list(), \"coef\":list((lr.coef_.T))})\n",
    "# fs.sort_values(by=['coef'], ascending=False)\n",
    "# y_test_pred_lr"
   ]
  },
  {
   "cell_type": "markdown",
   "metadata": {},
   "source": [
    "#### 3.1.1 模型评价"
   ]
  },
  {
   "cell_type": "code",
   "execution_count": 66,
   "metadata": {},
   "outputs": [
    {
     "name": "stdout",
     "output_type": "stream",
     "text": [
      "The r2 score of LinearRegression on test is 0.511853760044\n",
      "The r2 score of LinearRegression on train is 0.573943964507\n"
     ]
    }
   ],
   "source": [
    "# 使用r2_score评价模型在测试及和训练集上的性能，并输出评估结果\n",
    "# 测试集\n",
    "print 'The r2 score of LinearRegression on test is',r2_score(y_test, y_test_pred_lr)\n",
    "\n",
    "# 训练集\n",
    "print 'The r2 score of LinearRegression on train is',r2_score(y_train, y_train_pred_lr)"
   ]
  },
  {
   "cell_type": "code",
   "execution_count": 67,
   "metadata": {},
   "outputs": [
    {
     "data": {
      "text/plain": [
       "<matplotlib.legend.Legend at 0x7fee57c03d10>"
      ]
     },
     "execution_count": 67,
     "metadata": {},
     "output_type": "execute_result"
    },
    {
     "data": {
      "image/png": "[encoded data removed]",
      "text/plain": [
       "<matplotlib.figure.Figure at 0x7fee57d42490>"
      ]
     },
     "metadata": {},
     "output_type": "display_data"
    }
   ],
   "source": [
    "# 在训练集上观测预测残差分布\n",
    "f, ax = plt.subplots(figsize=(7, 5))\n",
    "f.tight_layout()\n",
    "ax.hist(y_train - y_train_pred_lr, bins=40, label=\"Residuals Linear\", color='red', alpha=.5)\n",
    "ax.set_title(\"Histogram of Residuals\")\n",
    "ax.legend(loc='best')\n"
   ]
  },
  {
   "cell_type": "markdown",
   "metadata": {},
   "source": [
    "## 4.岭回归，对正则参数lambda (scikit learn 中为alpha)调优"
   ]
  },
  {
   "cell_type": "code",
   "execution_count": 68,
   "metadata": {
    "collapsed": true
   },
   "outputs": [],
   "source": [
    "from sklearn.linear_model import RidgeCV\n",
    "\n",
    "#设置超参数范围\n",
    "alphas = [0.01, 0.1, 1, 10, 100]\n",
    "\n",
    "#生成一个RidgeCV实例\n",
    "ridge = RidgeCV(alphas = alphas)"
   ]
  },
  {
   "cell_type": "code",
   "execution_count": 69,
   "metadata": {},
   "outputs": [
    {
     "data": {
      "text/plain": [
       "RidgeCV(alphas=[0.01, 0.1, 1, 10, 100], cv=None, fit_intercept=True,\n",
       "    gcv_mode=None, normalize=False, scoring=None, store_cv_values=False)"
      ]
     },
     "execution_count": 69,
     "metadata": {},
     "output_type": "execute_result"
    }
   ],
   "source": [
    "# 模型训练\n",
    "ridge.fit(x_train, y_train)"
   ]
  },
  {
   "cell_type": "code",
   "execution_count": 70,
   "metadata": {
    "collapsed": true
   },
   "outputs": [],
   "source": [
    "# 预测\n",
    "y_test_pred_cv = ridge.predict(x_test)\n",
    "y_train_pred_cv = ridge.predict(x_train)"
   ]
  },
  {
   "cell_type": "code",
   "execution_count": 71,
   "metadata": {},
   "outputs": [
    {
     "name": "stdout",
     "output_type": "stream",
     "text": [
      "('the r2 score of RidgeCV on test is ', 0.51718721391135358)\n",
      "('the r2 score of RidgeCV on train is ', 0.57394396450741625)\n"
     ]
    }
   ],
   "source": [
    "# 评估，使用r2_score评价模型在测试集和训练集上的性能\n",
    "print (('the r2 score of RidgeCV on test is '), r2_score(y_test, y_test_pred_cv))\n",
    "print (('the r2 score of RidgeCV on train is '), r2_score(y_train, y_train_pred_lr))"
   ]
  },
  {
   "cell_type": "code",
   "execution_count": null,
   "metadata": {
    "collapsed": true
   },
   "outputs": [],
   "source": []
  }
 ],
 "metadata": {
  "kernelspec": {
   "display_name": "Python 2",
   "language": "python",
   "name": "python2"
  },
  "language_info": {
   "codemirror_mode": {
    "name": "ipython",
    "version": 2
   },
   "file_extension": ".py",
   "mimetype": "text/x-python",
   "name": "python",
   "nbconvert_exporter": "python",
   "pygments_lexer": "ipython2",
   "version": "2.7.11"
  }
 },
 "nbformat": 4,
 "nbformat_minor": 1
}
